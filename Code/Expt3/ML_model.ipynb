{
  "nbformat": 4,
  "nbformat_minor": 0,
  "metadata": {
    "colab": {
      "name": "ML_model.ipynb",
      "provenance": []
    },
    "kernelspec": {
      "name": "python3",
      "display_name": "Python 3"
    },
    "language_info": {
      "name": "python"
    }
  },
  "cells": [
    {
      "cell_type": "code",
      "metadata": {
        "id": "8RKDNOwIvD2D"
      },
      "source": [
        "import h5py"
      ],
      "execution_count": null,
      "outputs": []
    },
    {
      "cell_type": "code",
      "metadata": {
        "id": "wwtm_AvMvcvK"
      },
      "source": [
        "import h5py\n",
        "import numpy as np\n",
        "from sklearn import svm\n",
        "import matplotlib.pyplot as plt\n",
        "from sklearn.model_selection import train_test_split\n",
        "from sklearn import metrics\n",
        "from sklearn.neighbors import KNeighborsClassifier\n",
        "from sklearn.decomposition import PCA\n",
        "from sklearn import preprocessing\n",
        "\n",
        "#%%\n",
        "data = []\n",
        "labels = []\n",
        "\n",
        "with h5py.File('/content/drive/MyDrive/dataset2_final.hdf5', 'r') as hf:\n",
        "    X = hf.get('X')\n",
        "    data = np.array(X)\n",
        "    Y = hf.get('Y')\n",
        "    labels = np.array(Y)\n",
        "hf.close()\n",
        "\n",
        "with h5py.File('/content/drive/MyDrive/dataset1_final.hdf5', 'r') as hf:\n",
        "    X = hf.get('X')\n",
        "    data2 = np.array(X)\n",
        "    Y = hf.get('Y')\n",
        "    labels2 = np.array(Y)\n",
        "hf.close()\n"
      ],
      "execution_count": null,
      "outputs": []
    },
    {
      "cell_type": "code",
      "metadata": {
        "colab": {
          "base_uri": "https://localhost:8080/"
        },
        "id": "Km_kIs_wv4py",
        "outputId": "b1301a74-6cf1-4555-b948-9ae32c3f185d"
      },
      "source": [
        "data2.shape"
      ],
      "execution_count": null,
      "outputs": [
        {
          "output_type": "execute_result",
          "data": {
            "text/plain": [
              "(82, 250, 192)"
            ]
          },
          "metadata": {},
          "execution_count": 2
        }
      ]
    },
    {
      "cell_type": "code",
      "metadata": {
        "colab": {
          "base_uri": "https://localhost:8080/"
        },
        "id": "BmrlFmk_2Hp0",
        "outputId": "045fb6e9-aa9e-4c0b-a6b6-a566f19d2235"
      },
      "source": [
        "labels2.shape"
      ],
      "execution_count": null,
      "outputs": [
        {
          "output_type": "execute_result",
          "data": {
            "text/plain": [
              "(82, 1)"
            ]
          },
          "metadata": {},
          "execution_count": 3
        }
      ]
    },
    {
      "cell_type": "code",
      "metadata": {
        "id": "EZnrhI4W5UEN"
      },
      "source": [
        "labels=(labels/2).astype(np.int)"
      ],
      "execution_count": null,
      "outputs": []
    },
    {
      "cell_type": "code",
      "metadata": {
        "id": "DTFwdGOL39rv"
      },
      "source": [
        "data2 = data2[labels2[:,0]==0,:,:]\n",
        "labels2 = labels2[labels2[:,0]==0]"
      ],
      "execution_count": null,
      "outputs": []
    },
    {
      "cell_type": "code",
      "metadata": {
        "id": "5QplEpTR42H2"
      },
      "source": [
        "data = np.append(data,data2,axis=0)"
      ],
      "execution_count": null,
      "outputs": []
    },
    {
      "cell_type": "code",
      "metadata": {
        "id": "kqICjkdO5Fg9"
      },
      "source": [
        "labels = np.append(labels,labels2,axis=0)"
      ],
      "execution_count": null,
      "outputs": []
    },
    {
      "cell_type": "code",
      "metadata": {
        "id": "rkSzWm16v6yC"
      },
      "source": [
        "import tensorflow\n",
        "tf = tensorflow"
      ],
      "execution_count": null,
      "outputs": []
    },
    {
      "cell_type": "code",
      "metadata": {
        "id": "WCa7UAdnlnS7"
      },
      "source": [
        "np.random.shuffle(day)"
      ],
      "execution_count": null,
      "outputs": []
    },
    {
      "cell_type": "code",
      "metadata": {
        "colab": {
          "base_uri": "https://localhost:8080/",
          "height": 282
        },
        "id": "O4YdshUA-BZo",
        "outputId": "e9359193-1405-42ca-c544-501ca90b7b9d"
      },
      "source": [
        "plot = data2.reshape(-1,192)\n",
        "plt.plot(plot[:600,6])"
      ],
      "execution_count": null,
      "outputs": [
        {
          "output_type": "execute_result",
          "data": {
            "text/plain": [
              "[<matplotlib.lines.Line2D at 0x7f41779b55d0>]"
            ]
          },
          "metadata": {},
          "execution_count": 9
        },
        {
          "output_type": "display_data",
          "data": {
            "image/png": "[encoded data removed]",
            "text/plain": [
              "<Figure size 432x288 with 1 Axes>"
            ]
          },
          "metadata": {
            "needs_background": "light"
          }
        }
      ]
    },
    {
      "cell_type": "code",
      "metadata": {
        "colab": {
          "base_uri": "https://localhost:8080/"
        },
        "id": "m9hU_VGR-LnK",
        "outputId": "5153b926-ffb1-4e57-d5b6-fcdb79ed262b"
      },
      "source": [
        "data[0,:,6]"
      ],
      "execution_count": null,
      "outputs": [
        {
          "output_type": "execute_result",
          "data": {
            "text/plain": [
              "array([-0.15068422, -0.7375391 ,  0.03677094, -0.00973959,  1.7184919 ,\n",
              "        0.46762145,  0.46762145, -0.17438628,  1.3991885 , -0.36625347,\n",
              "       -0.00973959,  0.46762145, -0.7375391 ,  0.643468  ,  0.46762145,\n",
              "       -0.7375391 , -0.4637438 ,  0.40085998, -0.15068422, -0.00973959,\n",
              "        0.5778913 ,  0.17493795, -0.15068422,  0.643468  , -0.9942391 ,\n",
              "       -0.07994401, -1.4222623 , -0.4637438 , -0.36625347, -1.394835  ,\n",
              "       -1.3675019 , -0.36625347, -0.9422707 , -0.53756976,  0.17493795,\n",
              "        0.10610755,  1.0909642 , -0.4637438 , -1.0728041 ,  0.10610755,\n",
              "        0.46762145, -0.36625347, -1.0728041 , -0.15068422, -0.7375391 ,\n",
              "        0.75181544, -0.15068422,  0.7086171 , -0.10346372, -0.53756976,\n",
              "        0.7086171 , -0.6620102 , -1.394835  ,  0.10610755, -0.762863  ,\n",
              "       -0.36625347,  0.10610755, -0.17438628, -0.4637438 , -0.762863  ,\n",
              "        0.46762145, -1.2860597 , -0.4882841 , -0.36625347, -0.07994401,\n",
              "       -0.6620102 , -0.15068422, -0.7375391 , -0.10346372,  0.10610755,\n",
              "        0.10610755, -0.36625347,  1.2974403 ,  0.55593556, -0.36625347,\n",
              "       -0.00973959,  0.7086171 , -0.4882841 ,  1.2974403 ,  0.901576  ,\n",
              "        0.40085998,  0.10610755,  1.579947  , -0.15068422, -0.10346372,\n",
              "       -1.3675019 ,  0.92279154,  0.75181544,  2.405216  ,  0.643468  ,\n",
              "        1.874734  ,  1.0909642 , -1.2860597 ,  0.96509254, -0.15068422,\n",
              "        2.1808593 ,  1.874734  ,  0.7086171 ,  1.0909642 ,  3.2627516 ,\n",
              "        2.6978538 ,  0.46762145,  1.7184919 , -0.36625347,  1.2974403 ,\n",
              "       -0.4882841 ,  2.330911  ,  1.3178679 , -1.645203  , -1.816745  ,\n",
              "        0.901576  , -2.0816617 , -1.1787349 , -1.8748026 , -1.1787349 ,\n",
              "        0.10610755, -1.6169833 ,  0.75181544, -0.7375391 ,  0.55593556,\n",
              "       -0.17438628,  0.5778913 , -1.3131149 , -1.3131149 ,  0.03677094,\n",
              "       -0.89062244,  0.55593556,  1.579947  ,  1.5400375 ,  0.17493795,\n",
              "        1.0909642 ,  1.3991885 , -1.3675019 ,  0.92279154,  1.579947  ,\n",
              "        0.92279154, -0.762863  ,  0.643468  , -0.17438628,  0.55593556,\n",
              "        0.643468  ,  2.0479426 ,  1.2974403 , -1.2860597 , -0.4637438 ,\n",
              "        1.874734  , -0.36625347, -0.9422707 , -1.3675019 ,  0.92279154,\n",
              "        1.0909642 ,  0.901576  ,  0.73023957, -2.051751  , -0.9942391 ,\n",
              "       -0.7375391 ,  0.986178  , -1.3131149 ,  0.75181544,  0.986178  ,\n",
              "        1.3991885 , -0.89062244, -0.762863  , -0.4637438 , -0.762863  ,\n",
              "        0.17493795, -0.00973959, -1.3131149 , -0.36625347, -1.0728041 ,\n",
              "       -1.394835  , -0.4882841 , -1.3131149 ,  0.17493795, -0.9422707 ,\n",
              "       -0.9422707 , -1.2860597 , -1.6169833 , -0.15068422, -0.15068422,\n",
              "       -0.4637438 , -0.762863  , -1.394835  , -0.07994401, -0.7375391 ,\n",
              "       -0.4882841 , -0.7375391 , -1.394835  , -1.0728041 , -1.1787349 ,\n",
              "       -1.394835  , -0.7375391 , -0.4637438 , -0.4637438 , -1.0728041 ,\n",
              "       -0.36625347, -0.762863  , -0.7375391 , -0.762863  , -0.9422707 ,\n",
              "       -1.3131149 , -0.53756976, -0.15068422, -0.9422707 , -1.3131149 ,\n",
              "       -1.1787349 , -0.53756976, -0.89062244, -0.75020105,  0.643468  ,\n",
              "       -1.3131149 , -0.89062244, -1.0728041 , -1.3675019 , -0.15068422,\n",
              "       -1.816745  ,  0.40085998, -0.7375391 , -0.89062244,  0.901576  ,\n",
              "        1.0909642 , -1.1787349 , -1.0728041 , -0.00973959, -0.00973959,\n",
              "        0.17493795,  0.901576  ,  0.73023957,  0.75181544, -0.00973959,\n",
              "        0.7086171 ,  1.3991885 ,  0.5778913 , -0.6620102 ,  0.2659448 ,\n",
              "        0.5778913 ,  0.10610755, -0.4637438 , -0.4637438 , -0.7375391 ,\n",
              "       -0.07994401,  0.55593556, -0.89062244, -1.6169833 , -1.394835  ,\n",
              "        0.10610755, -1.8748026 ,  1.3178679 ,  0.5778913 , -0.6620102 ],\n",
              "      dtype=float32)"
            ]
          },
          "metadata": {},
          "execution_count": 86
        }
      ]
    },
    {
      "cell_type": "code",
      "metadata": {
        "id": "SG-Sc1fi5OSj"
      },
      "source": [
        "np.random.shuffle(data)\n",
        "np.random.shuffle(labels)"
      ],
      "execution_count": null,
      "outputs": []
    },
    {
      "cell_type": "code",
      "metadata": {
        "id": "bCovfVPnQOhg"
      },
      "source": [
        "n_comps = 5\n",
        "pca = PCA(n_components=n_comps)\n",
        "new_data = np.empty(shape=(data.shape[0], data.shape[1], n_comps))\n",
        "for i in range(data.shape[0]):\n",
        "    pcs = pca.fit_transform(data[i])\n",
        "    new_data[i] = pcs"
      ],
      "execution_count": null,
      "outputs": []
    },
    {
      "cell_type": "code",
      "metadata": {
        "colab": {
          "base_uri": "https://localhost:8080/"
        },
        "id": "ypblrgrBQpub",
        "outputId": "00fe99d9-cfbe-4652-ec43-bae8151034a8"
      },
      "source": [
        "new_data.shape"
      ],
      "execution_count": null,
      "outputs": [
        {
          "output_type": "execute_result",
          "data": {
            "text/plain": [
              "(85, 250, 5)"
            ]
          },
          "metadata": {},
          "execution_count": 20
        }
      ]
    },
    {
      "cell_type": "code",
      "metadata": {
        "id": "GotolxotQ4Tg"
      },
      "source": [
        "import pywt\n",
        "data_dwt = np.zeros((new_data.shape[0],250,250))\n",
        "signal_length = 250\n",
        "scales = np.arange(1, signal_length+1)\n",
        "for i in range(data.shape[0]):\n",
        "  coeff, freq = pywt.cwt(new_data[i,:,1], scales, 'morl')\n",
        "  data_dwt[i] = coeff"
      ],
      "execution_count": null,
      "outputs": []
    },
    {
      "cell_type": "code",
      "metadata": {
        "colab": {
          "base_uri": "https://localhost:8080/",
          "height": 286
        },
        "id": "iyBRICCYUouC",
        "outputId": "b2ac7bed-984b-4980-9235-5b0cbafd44b6"
      },
      "source": [
        "import matplotlib.pyplot as plt\n",
        "plt.imshow(data_dwt[0])"
      ],
      "execution_count": null,
      "outputs": [
        {
          "output_type": "execute_result",
          "data": {
            "text/plain": [
              "<matplotlib.image.AxesImage at 0x7f4169d25a50>"
            ]
          },
          "metadata": {},
          "execution_count": 36
        },
        {
          "output_type": "display_data",
          "data": {
            "image/png": "[encoded data removed]",
            "text/plain": [
              "<Figure size 432x288 with 1 Axes>"
            ]
          },
          "metadata": {
            "needs_background": "light"
          }
        }
      ]
    },
    {
      "cell_type": "code",
      "metadata": {
        "colab": {
          "base_uri": "https://localhost:8080/"
        },
        "id": "12t57njrU2Wd",
        "outputId": "b3ba3e4c-0f51-4d22-d357-d76ccb6d9c72"
      },
      "source": [
        "labels[2]"
      ],
      "execution_count": null,
      "outputs": [
        {
          "output_type": "execute_result",
          "data": {
            "text/plain": [
              "array([0])"
            ]
          },
          "metadata": {},
          "execution_count": 32
        }
      ]
    },
    {
      "cell_type": "code",
      "metadata": {
        "colab": {
          "base_uri": "https://localhost:8080/",
          "height": 1000
        },
        "id": "4zYubNLqRvW1",
        "outputId": "c1bbd9ce-6d7b-4491-cfb2-63d81ea66e53"
      },
      "source": [
        "import tensorflow as tf\n",
        "\n",
        "from tensorflow.keras import datasets, layers, models\n",
        "import matplotlib.pyplot as plt\n",
        "\n",
        "# Model configuration\n",
        "\n",
        "# Disable eager execution\n",
        "tf.compat.v1.disable_eager_execution()\n",
        "model = models.Sequential()\n",
        "model.add(layers.Conv2D(8, (3, 3), activation='relu', input_shape=(250, 250, 1)))\n",
        "model.add(layers.MaxPooling2D((2, 2)))\n",
        "model.add(layers.Flatten())\n",
        "model.add(layers.Dense(32, activation='relu'))\n",
        "model.add(layers.Dense(1, activation='sigmoid'))\n",
        "model.compile(optimizer='adam', loss='binary_crossentropy', metrics=['accuracy'])\n",
        "history = model.fit(data_dwt.reshape(*data_dwt.shape,1),labels, batch_size=1, epochs=100, validation_split=0.15)"
      ],
      "execution_count": null,
      "outputs": [
        {
          "output_type": "stream",
          "name": "stdout",
          "text": [
            "Train on 72 samples, validate on 13 samples\n",
            "Epoch 1/100\n",
            "71/72 [============================>.] - ETA: 0s - loss: 120.4445 - accuracy: 0.4507"
          ]
        },
        {
          "output_type": "stream",
          "name": "stderr",
          "text": [
            "/usr/local/lib/python3.7/dist-packages/keras/engine/training_v1.py:2057: UserWarning: `Model.state_updates` will be removed in a future version. This property should not be used in TensorFlow 2.0, as `updates` are applied automatically.\n",
            "  updates = self.state_updates\n"
          ]
        },
        {
          "output_type": "stream",
          "name": "stdout",
          "text": [
            "72/72 [==============================] - 3s 37ms/sample - loss: 119.3589 - accuracy: 0.4444 - val_loss: 18.9063 - val_accuracy: 0.4615\n",
            "Epoch 2/100\n",
            "72/72 [==============================] - 2s 35ms/sample - loss: 14.9650 - accuracy: 0.6528 - val_loss: 43.8054 - val_accuracy: 0.4615\n",
            "Epoch 3/100\n",
            "72/72 [==============================] - 3s 36ms/sample - loss: 6.3462 - accuracy: 0.8194 - val_loss: 25.3220 - val_accuracy: 0.3846\n",
            "Epoch 4/100\n",
            "72/72 [==============================] - 3s 35ms/sample - loss: 11.6704 - accuracy: 0.7778 - val_loss: 62.8362 - val_accuracy: 0.4615\n",
            "Epoch 5/100\n",
            "72/72 [==============================] - 3s 35ms/sample - loss: 17.2384 - accuracy: 0.7500 - val_loss: 47.0660 - val_accuracy: 0.4615\n",
            "Epoch 6/100\n",
            "72/72 [==============================] - 3s 35ms/sample - loss: 2.2574 - accuracy: 0.9028 - val_loss: 36.7899 - val_accuracy: 0.4615\n",
            "Epoch 7/100\n",
            "72/72 [==============================] - 3s 35ms/sample - loss: 3.6809 - accuracy: 0.8611 - val_loss: 23.9866 - val_accuracy: 0.5385\n",
            "Epoch 8/100\n",
            "72/72 [==============================] - 3s 36ms/sample - loss: 3.5988 - accuracy: 0.8889 - val_loss: 23.8284 - val_accuracy: 0.2308\n",
            "Epoch 9/100\n",
            "72/72 [==============================] - 3s 35ms/sample - loss: 0.4296 - accuracy: 0.9583 - val_loss: 26.4277 - val_accuracy: 0.3077\n",
            "Epoch 10/100\n",
            "72/72 [==============================] - 3s 35ms/sample - loss: 0.3199 - accuracy: 0.9722 - val_loss: 20.6265 - val_accuracy: 0.2308\n",
            "Epoch 11/100\n",
            "72/72 [==============================] - 3s 35ms/sample - loss: 1.6524 - accuracy: 0.9167 - val_loss: 68.3169 - val_accuracy: 0.4615\n",
            "Epoch 12/100\n",
            "72/72 [==============================] - 3s 35ms/sample - loss: 0.7642 - accuracy: 0.9444 - val_loss: 20.9594 - val_accuracy: 0.3846\n",
            "Epoch 13/100\n",
            "72/72 [==============================] - 3s 36ms/sample - loss: 1.1398 - accuracy: 0.9583 - val_loss: 55.0484 - val_accuracy: 0.4615\n",
            "Epoch 14/100\n",
            "72/72 [==============================] - 3s 35ms/sample - loss: 1.0946 - accuracy: 0.9583 - val_loss: 27.9110 - val_accuracy: 0.3846\n",
            "Epoch 15/100\n",
            "72/72 [==============================] - 3s 36ms/sample - loss: 2.4592e-17 - accuracy: 1.0000 - val_loss: 28.1391 - val_accuracy: 0.3846\n",
            "Epoch 16/100\n",
            "72/72 [==============================] - 3s 35ms/sample - loss: 2.5578e-17 - accuracy: 1.0000 - val_loss: 28.1391 - val_accuracy: 0.3846\n",
            "Epoch 17/100\n",
            "72/72 [==============================] - 3s 36ms/sample - loss: 2.5578e-17 - accuracy: 1.0000 - val_loss: 28.1391 - val_accuracy: 0.3846\n",
            "Epoch 18/100\n",
            "72/72 [==============================] - 3s 35ms/sample - loss: 2.5578e-17 - accuracy: 1.0000 - val_loss: 28.1391 - val_accuracy: 0.3846\n",
            "Epoch 19/100\n",
            "72/72 [==============================] - 3s 36ms/sample - loss: 2.5578e-17 - accuracy: 1.0000 - val_loss: 28.1391 - val_accuracy: 0.3846\n",
            "Epoch 20/100\n",
            "72/72 [==============================] - 3s 36ms/sample - loss: 2.5578e-17 - accuracy: 1.0000 - val_loss: 28.1391 - val_accuracy: 0.3846\n",
            "Epoch 21/100\n",
            "72/72 [==============================] - 3s 35ms/sample - loss: 2.5578e-17 - accuracy: 1.0000 - val_loss: 28.1391 - val_accuracy: 0.3846\n",
            "Epoch 22/100\n",
            "72/72 [==============================] - 3s 36ms/sample - loss: 2.5578e-17 - accuracy: 1.0000 - val_loss: 28.1391 - val_accuracy: 0.3846\n",
            "Epoch 23/100\n",
            "72/72 [==============================] - 3s 36ms/sample - loss: 2.5578e-17 - accuracy: 1.0000 - val_loss: 28.1391 - val_accuracy: 0.3846\n",
            "Epoch 24/100\n",
            "72/72 [==============================] - 3s 35ms/sample - loss: 2.5578e-17 - accuracy: 1.0000 - val_loss: 28.1391 - val_accuracy: 0.3846\n",
            "Epoch 25/100\n",
            "57/72 [======================>.......] - ETA: 0s - loss: 3.0182e-17 - accuracy: 1.0000"
          ]
        },
        {
          "output_type": "error",
          "ename": "KeyboardInterrupt",
          "evalue": "ignored",
          "traceback": [
            "\u001b[0;31m---------------------------------------------------------------------------\u001b[0m",
            "\u001b[0;31mKeyboardInterrupt\u001b[0m                         Traceback (most recent call last)",
            "\u001b[0;32m<ipython-input-27-e47020fa9a4a>\u001b[0m in \u001b[0;36m<module>\u001b[0;34m()\u001b[0m\n\u001b[1;32m     15\u001b[0m \u001b[0mmodel\u001b[0m\u001b[0;34m.\u001b[0m\u001b[0madd\u001b[0m\u001b[0;34m(\u001b[0m\u001b[0mlayers\u001b[0m\u001b[0;34m.\u001b[0m\u001b[0mDense\u001b[0m\u001b[0;34m(\u001b[0m\u001b[0;36m1\u001b[0m\u001b[0;34m,\u001b[0m \u001b[0mactivation\u001b[0m\u001b[0;34m=\u001b[0m\u001b[0;34m'sigmoid'\u001b[0m\u001b[0;34m)\u001b[0m\u001b[0;34m)\u001b[0m\u001b[0;34m\u001b[0m\u001b[0;34m\u001b[0m\u001b[0m\n\u001b[1;32m     16\u001b[0m \u001b[0mmodel\u001b[0m\u001b[0;34m.\u001b[0m\u001b[0mcompile\u001b[0m\u001b[0;34m(\u001b[0m\u001b[0moptimizer\u001b[0m\u001b[0;34m=\u001b[0m\u001b[0;34m'adam'\u001b[0m\u001b[0;34m,\u001b[0m \u001b[0mloss\u001b[0m\u001b[0;34m=\u001b[0m\u001b[0;34m'binary_crossentropy'\u001b[0m\u001b[0;34m,\u001b[0m \u001b[0mmetrics\u001b[0m\u001b[0;34m=\u001b[0m\u001b[0;34m[\u001b[0m\u001b[0;34m'accuracy'\u001b[0m\u001b[0;34m]\u001b[0m\u001b[0;34m)\u001b[0m\u001b[0;34m\u001b[0m\u001b[0;34m\u001b[0m\u001b[0m\n\u001b[0;32m---> 17\u001b[0;31m \u001b[0mhistory\u001b[0m \u001b[0;34m=\u001b[0m \u001b[0mmodel\u001b[0m\u001b[0;34m.\u001b[0m\u001b[0mfit\u001b[0m\u001b[0;34m(\u001b[0m\u001b[0mdata_dwt\u001b[0m\u001b[0;34m.\u001b[0m\u001b[0mreshape\u001b[0m\u001b[0;34m(\u001b[0m\u001b[0;34m*\u001b[0m\u001b[0mdata_dwt\u001b[0m\u001b[0;34m.\u001b[0m\u001b[0mshape\u001b[0m\u001b[0;34m,\u001b[0m\u001b[0;36m1\u001b[0m\u001b[0;34m)\u001b[0m\u001b[0;34m,\u001b[0m\u001b[0mlabels\u001b[0m\u001b[0;34m,\u001b[0m \u001b[0mbatch_size\u001b[0m\u001b[0;34m=\u001b[0m\u001b[0;36m1\u001b[0m\u001b[0;34m,\u001b[0m \u001b[0mepochs\u001b[0m\u001b[0;34m=\u001b[0m\u001b[0;36m100\u001b[0m\u001b[0;34m,\u001b[0m \u001b[0mvalidation_split\u001b[0m\u001b[0;34m=\u001b[0m\u001b[0;36m0.15\u001b[0m\u001b[0;34m)\u001b[0m\u001b[0;34m\u001b[0m\u001b[0;34m\u001b[0m\u001b[0m\n\u001b[0m",
            "\u001b[0;32m/usr/local/lib/python3.7/dist-packages/keras/engine/training_v1.py\u001b[0m in \u001b[0;36mfit\u001b[0;34m(self, x, y, batch_size, epochs, verbose, callbacks, validation_split, validation_data, shuffle, class_weight, sample_weight, initial_epoch, steps_per_epoch, validation_steps, validation_freq, max_queue_size, workers, use_multiprocessing, **kwargs)\u001b[0m\n\u001b[1;32m    794\u001b[0m         \u001b[0mmax_queue_size\u001b[0m\u001b[0;34m=\u001b[0m\u001b[0mmax_queue_size\u001b[0m\u001b[0;34m,\u001b[0m\u001b[0;34m\u001b[0m\u001b[0;34m\u001b[0m\u001b[0m\n\u001b[1;32m    795\u001b[0m         \u001b[0mworkers\u001b[0m\u001b[0;34m=\u001b[0m\u001b[0mworkers\u001b[0m\u001b[0;34m,\u001b[0m\u001b[0;34m\u001b[0m\u001b[0;34m\u001b[0m\u001b[0m\n\u001b[0;32m--> 796\u001b[0;31m         use_multiprocessing=use_multiprocessing)\n\u001b[0m\u001b[1;32m    797\u001b[0m \u001b[0;34m\u001b[0m\u001b[0m\n\u001b[1;32m    798\u001b[0m   def evaluate(self,\n",
            "\u001b[0;32m/usr/local/lib/python3.7/dist-packages/keras/engine/training_arrays_v1.py\u001b[0m in \u001b[0;36mfit\u001b[0;34m(self, model, x, y, batch_size, epochs, verbose, callbacks, validation_split, validation_data, shuffle, class_weight, sample_weight, initial_epoch, steps_per_epoch, validation_steps, validation_freq, **kwargs)\u001b[0m\n\u001b[1;32m    655\u001b[0m         \u001b[0mvalidation_steps\u001b[0m\u001b[0;34m=\u001b[0m\u001b[0mvalidation_steps\u001b[0m\u001b[0;34m,\u001b[0m\u001b[0;34m\u001b[0m\u001b[0;34m\u001b[0m\u001b[0m\n\u001b[1;32m    656\u001b[0m         \u001b[0mvalidation_freq\u001b[0m\u001b[0;34m=\u001b[0m\u001b[0mvalidation_freq\u001b[0m\u001b[0;34m,\u001b[0m\u001b[0;34m\u001b[0m\u001b[0;34m\u001b[0m\u001b[0m\n\u001b[0;32m--> 657\u001b[0;31m         steps_name='steps_per_epoch')\n\u001b[0m\u001b[1;32m    658\u001b[0m \u001b[0;34m\u001b[0m\u001b[0m\n\u001b[1;32m    659\u001b[0m   def evaluate(self,\n",
            "\u001b[0;32m/usr/local/lib/python3.7/dist-packages/keras/engine/training_arrays_v1.py\u001b[0m in \u001b[0;36mmodel_iteration\u001b[0;34m(model, inputs, targets, sample_weights, batch_size, epochs, verbose, callbacks, val_inputs, val_targets, val_sample_weights, shuffle, initial_epoch, steps_per_epoch, validation_steps, validation_freq, mode, validation_in_fit, prepared_feed_values_from_dataset, steps_name, **kwargs)\u001b[0m\n\u001b[1;32m    374\u001b[0m \u001b[0;34m\u001b[0m\u001b[0m\n\u001b[1;32m    375\u001b[0m         \u001b[0;31m# Get outputs.\u001b[0m\u001b[0;34m\u001b[0m\u001b[0;34m\u001b[0m\u001b[0;34m\u001b[0m\u001b[0m\n\u001b[0;32m--> 376\u001b[0;31m         \u001b[0mbatch_outs\u001b[0m \u001b[0;34m=\u001b[0m \u001b[0mf\u001b[0m\u001b[0;34m(\u001b[0m\u001b[0mins_batch\u001b[0m\u001b[0;34m)\u001b[0m\u001b[0;34m\u001b[0m\u001b[0;34m\u001b[0m\u001b[0m\n\u001b[0m\u001b[1;32m    377\u001b[0m         \u001b[0;32mif\u001b[0m \u001b[0;32mnot\u001b[0m \u001b[0misinstance\u001b[0m\u001b[0;34m(\u001b[0m\u001b[0mbatch_outs\u001b[0m\u001b[0;34m,\u001b[0m \u001b[0mlist\u001b[0m\u001b[0;34m)\u001b[0m\u001b[0;34m:\u001b[0m\u001b[0;34m\u001b[0m\u001b[0;34m\u001b[0m\u001b[0m\n\u001b[1;32m    378\u001b[0m           \u001b[0mbatch_outs\u001b[0m \u001b[0;34m=\u001b[0m \u001b[0;34m[\u001b[0m\u001b[0mbatch_outs\u001b[0m\u001b[0;34m]\u001b[0m\u001b[0;34m\u001b[0m\u001b[0;34m\u001b[0m\u001b[0m\n",
            "\u001b[0;32m/usr/local/lib/python3.7/dist-packages/keras/backend.py\u001b[0m in \u001b[0;36m__call__\u001b[0;34m(self, inputs)\u001b[0m\n\u001b[1;32m   4185\u001b[0m \u001b[0;34m\u001b[0m\u001b[0m\n\u001b[1;32m   4186\u001b[0m     fetched = self._callable_fn(*array_vals,\n\u001b[0;32m-> 4187\u001b[0;31m                                 run_metadata=self.run_metadata)\n\u001b[0m\u001b[1;32m   4188\u001b[0m     \u001b[0mself\u001b[0m\u001b[0;34m.\u001b[0m\u001b[0m_call_fetch_callbacks\u001b[0m\u001b[0;34m(\u001b[0m\u001b[0mfetched\u001b[0m\u001b[0;34m[\u001b[0m\u001b[0;34m-\u001b[0m\u001b[0mlen\u001b[0m\u001b[0;34m(\u001b[0m\u001b[0mself\u001b[0m\u001b[0;34m.\u001b[0m\u001b[0m_fetches\u001b[0m\u001b[0;34m)\u001b[0m\u001b[0;34m:\u001b[0m\u001b[0;34m]\u001b[0m\u001b[0;34m)\u001b[0m\u001b[0;34m\u001b[0m\u001b[0;34m\u001b[0m\u001b[0m\n\u001b[1;32m   4189\u001b[0m     output_structure = tf.nest.pack_sequence_as(\n",
            "\u001b[0;32m/usr/local/lib/python3.7/dist-packages/tensorflow/python/client/session.py\u001b[0m in \u001b[0;36m__call__\u001b[0;34m(self, *args, **kwargs)\u001b[0m\n\u001b[1;32m   1483\u001b[0m         ret = tf_session.TF_SessionRunCallable(self._session._session,\n\u001b[1;32m   1484\u001b[0m                                                \u001b[0mself\u001b[0m\u001b[0;34m.\u001b[0m\u001b[0m_handle\u001b[0m\u001b[0;34m,\u001b[0m \u001b[0margs\u001b[0m\u001b[0;34m,\u001b[0m\u001b[0;34m\u001b[0m\u001b[0;34m\u001b[0m\u001b[0m\n\u001b[0;32m-> 1485\u001b[0;31m                                                run_metadata_ptr)\n\u001b[0m\u001b[1;32m   1486\u001b[0m         \u001b[0;32mif\u001b[0m \u001b[0mrun_metadata\u001b[0m\u001b[0;34m:\u001b[0m\u001b[0;34m\u001b[0m\u001b[0;34m\u001b[0m\u001b[0m\n\u001b[1;32m   1487\u001b[0m           \u001b[0mproto_data\u001b[0m \u001b[0;34m=\u001b[0m \u001b[0mtf_session\u001b[0m\u001b[0;34m.\u001b[0m\u001b[0mTF_GetBuffer\u001b[0m\u001b[0;34m(\u001b[0m\u001b[0mrun_metadata_ptr\u001b[0m\u001b[0;34m)\u001b[0m\u001b[0;34m\u001b[0m\u001b[0;34m\u001b[0m\u001b[0m\n",
            "\u001b[0;31mKeyboardInterrupt\u001b[0m: "
          ]
        }
      ]
    },
    {
      "cell_type": "code",
      "metadata": {
        "colab": {
          "base_uri": "https://localhost:8080/",
          "height": 1000
        },
        "id": "UmLQQ0bFwKHf",
        "outputId": "601d698d-6b45-4718-efb5-30e44a892ed9"
      },
      "source": [
        "import tensorflow as tf\n",
        "from tensorflow.keras.datasets import imdb\n",
        "from tensorflow.keras.layers import Embedding, Dense, LSTM, Dropout\n",
        "from tensorflow.keras.losses import BinaryCrossentropy\n",
        "from tensorflow.keras.models import Sequential\n",
        "from tensorflow.keras.optimizers import Adam\n",
        "from tensorflow.keras.preprocessing.sequence import pad_sequences\n",
        "\n",
        "# Model configuration\n",
        "\n",
        "# Disable eager execution\n",
        "tf.compat.v1.disable_eager_execution()\n",
        "\n",
        "# Define the Keras model\n",
        "model = Sequential()\n",
        "model.add(LSTM(32))\n",
        "model.add(Dropout(0.2))\n",
        "model.add(Dense(1, activation='sigmoid'))\n",
        "model.compile(optimizer='adam', loss='binary_crossentropy', metrics=['accuracy'])\n",
        "\n",
        "history = model.fit(data,labels, batch_size=4, epochs=100, validation_split=0.15)\n"
      ],
      "execution_count": null,
      "outputs": [
        {
          "output_type": "stream",
          "name": "stdout",
          "text": [
            "Train on 72 samples, validate on 13 samples\n",
            "Epoch 1/100\n",
            "72/72 [==============================] - ETA: 0s - loss: 0.6715 - accuracy: 0.6389"
          ]
        },
        {
          "output_type": "stream",
          "name": "stderr",
          "text": [
            "/usr/local/lib/python3.7/dist-packages/keras/engine/training_v1.py:2057: UserWarning: `Model.state_updates` will be removed in a future version. This property should not be used in TensorFlow 2.0, as `updates` are applied automatically.\n",
            "  updates = self.state_updates\n"
          ]
        },
        {
          "output_type": "stream",
          "name": "stdout",
          "text": [
            "72/72 [==============================] - 2s 28ms/sample - loss: 0.6715 - accuracy: 0.6389 - val_loss: 0.6459 - val_accuracy: 0.7692\n",
            "Epoch 2/100\n",
            "72/72 [==============================] - 1s 18ms/sample - loss: 0.5029 - accuracy: 0.8333 - val_loss: 0.6092 - val_accuracy: 0.8462\n",
            "Epoch 3/100\n",
            "72/72 [==============================] - 1s 18ms/sample - loss: 0.4113 - accuracy: 0.8750 - val_loss: 0.5776 - val_accuracy: 0.8462\n",
            "Epoch 4/100\n",
            "72/72 [==============================] - 1s 18ms/sample - loss: 0.3362 - accuracy: 0.9444 - val_loss: 0.5806 - val_accuracy: 0.8462\n",
            "Epoch 5/100\n",
            "72/72 [==============================] - 1s 18ms/sample - loss: 0.2896 - accuracy: 0.9722 - val_loss: 0.5283 - val_accuracy: 0.8462\n",
            "Epoch 6/100\n",
            "72/72 [==============================] - 1s 18ms/sample - loss: 0.2279 - accuracy: 1.0000 - val_loss: 0.4889 - val_accuracy: 0.8462\n",
            "Epoch 7/100\n",
            "72/72 [==============================] - 1s 18ms/sample - loss: 0.1707 - accuracy: 1.0000 - val_loss: 0.4961 - val_accuracy: 0.8462\n",
            "Epoch 8/100\n",
            "72/72 [==============================] - 1s 18ms/sample - loss: 0.1322 - accuracy: 1.0000 - val_loss: 0.4180 - val_accuracy: 0.8462\n",
            "Epoch 9/100\n",
            "72/72 [==============================] - 1s 18ms/sample - loss: 0.1093 - accuracy: 1.0000 - val_loss: 0.5491 - val_accuracy: 0.7692\n",
            "Epoch 10/100\n",
            "72/72 [==============================] - 1s 17ms/sample - loss: 0.0749 - accuracy: 1.0000 - val_loss: 0.2444 - val_accuracy: 0.9231\n",
            "Epoch 11/100\n",
            "72/72 [==============================] - 1s 18ms/sample - loss: 0.0635 - accuracy: 1.0000 - val_loss: 0.4818 - val_accuracy: 0.8462\n",
            "Epoch 12/100\n",
            "72/72 [==============================] - 1s 18ms/sample - loss: 0.0440 - accuracy: 1.0000 - val_loss: 0.3446 - val_accuracy: 0.8462\n",
            "Epoch 13/100\n",
            "72/72 [==============================] - 1s 18ms/sample - loss: 0.0382 - accuracy: 1.0000 - val_loss: 0.3944 - val_accuracy: 0.8462\n",
            "Epoch 14/100\n",
            "72/72 [==============================] - 1s 18ms/sample - loss: 0.0313 - accuracy: 1.0000 - val_loss: 0.3568 - val_accuracy: 0.7692\n",
            "Epoch 15/100\n",
            "72/72 [==============================] - 1s 18ms/sample - loss: 0.0282 - accuracy: 1.0000 - val_loss: 0.3827 - val_accuracy: 0.7692\n",
            "Epoch 16/100\n",
            "72/72 [==============================] - 1s 18ms/sample - loss: 0.1380 - accuracy: 0.9444 - val_loss: 0.4590 - val_accuracy: 0.8462\n",
            "Epoch 17/100\n",
            "72/72 [==============================] - 1s 18ms/sample - loss: 0.0982 - accuracy: 0.9861 - val_loss: 0.2598 - val_accuracy: 0.8462\n",
            "Epoch 18/100\n",
            "72/72 [==============================] - 1s 18ms/sample - loss: 0.0615 - accuracy: 1.0000 - val_loss: 0.4284 - val_accuracy: 0.7692\n",
            "Epoch 19/100\n",
            "72/72 [==============================] - 1s 18ms/sample - loss: 0.0414 - accuracy: 1.0000 - val_loss: 0.2851 - val_accuracy: 0.8462\n",
            "Epoch 20/100\n",
            "72/72 [==============================] - 1s 18ms/sample - loss: 0.0301 - accuracy: 1.0000 - val_loss: 0.1819 - val_accuracy: 0.9231\n",
            "Epoch 21/100\n",
            "72/72 [==============================] - 1s 18ms/sample - loss: 0.0236 - accuracy: 1.0000 - val_loss: 0.1777 - val_accuracy: 0.9231\n",
            "Epoch 22/100\n",
            "72/72 [==============================] - 1s 18ms/sample - loss: 0.0227 - accuracy: 1.0000 - val_loss: 0.1921 - val_accuracy: 0.9231\n",
            "Epoch 23/100\n",
            "72/72 [==============================] - 1s 18ms/sample - loss: 0.0223 - accuracy: 1.0000 - val_loss: 0.2093 - val_accuracy: 0.9231\n",
            "Epoch 24/100\n",
            "72/72 [==============================] - 1s 18ms/sample - loss: 0.0169 - accuracy: 1.0000 - val_loss: 0.2292 - val_accuracy: 0.9231\n",
            "Epoch 25/100\n",
            "72/72 [==============================] - 1s 18ms/sample - loss: 0.0158 - accuracy: 1.0000 - val_loss: 0.2231 - val_accuracy: 0.8462\n",
            "Epoch 26/100\n",
            "72/72 [==============================] - 1s 18ms/sample - loss: 0.0159 - accuracy: 1.0000 - val_loss: 0.2354 - val_accuracy: 0.8462\n",
            "Epoch 27/100\n",
            "72/72 [==============================] - 1s 18ms/sample - loss: 0.0126 - accuracy: 1.0000 - val_loss: 0.2522 - val_accuracy: 0.8462\n",
            "Epoch 28/100\n",
            "72/72 [==============================] - 1s 18ms/sample - loss: 0.0131 - accuracy: 1.0000 - val_loss: 0.2620 - val_accuracy: 0.8462\n",
            "Epoch 29/100\n",
            "72/72 [==============================] - 1s 18ms/sample - loss: 0.0114 - accuracy: 1.0000 - val_loss: 0.2762 - val_accuracy: 0.8462\n",
            "Epoch 30/100\n",
            "72/72 [==============================] - 1s 18ms/sample - loss: 0.0098 - accuracy: 1.0000 - val_loss: 0.3168 - val_accuracy: 0.7692\n",
            "Epoch 31/100\n",
            "72/72 [==============================] - 1s 18ms/sample - loss: 0.0100 - accuracy: 1.0000 - val_loss: 0.3136 - val_accuracy: 0.7692\n",
            "Epoch 32/100\n",
            "72/72 [==============================] - 1s 18ms/sample - loss: 0.0098 - accuracy: 1.0000 - val_loss: 0.3057 - val_accuracy: 0.8462\n",
            "Epoch 33/100\n",
            "72/72 [==============================] - 1s 18ms/sample - loss: 0.0076 - accuracy: 1.0000 - val_loss: 0.3446 - val_accuracy: 0.7692\n",
            "Epoch 34/100\n",
            "72/72 [==============================] - 1s 18ms/sample - loss: 0.0088 - accuracy: 1.0000 - val_loss: 0.3157 - val_accuracy: 0.8462\n",
            "Epoch 35/100\n",
            "72/72 [==============================] - 1s 18ms/sample - loss: 0.0097 - accuracy: 1.0000 - val_loss: 0.3390 - val_accuracy: 0.8462\n",
            "Epoch 36/100\n",
            "72/72 [==============================] - 1s 18ms/sample - loss: 0.0069 - accuracy: 1.0000 - val_loss: 0.3366 - val_accuracy: 0.8462\n",
            "Epoch 37/100\n",
            "72/72 [==============================] - 1s 18ms/sample - loss: 0.0071 - accuracy: 1.0000 - val_loss: 0.3340 - val_accuracy: 0.8462\n",
            "Epoch 38/100\n",
            "72/72 [==============================] - 1s 18ms/sample - loss: 0.0060 - accuracy: 1.0000 - val_loss: 0.3224 - val_accuracy: 0.8462\n",
            "Epoch 39/100\n",
            "72/72 [==============================] - 1s 18ms/sample - loss: 0.0059 - accuracy: 1.0000 - val_loss: 0.3280 - val_accuracy: 0.8462\n",
            "Epoch 40/100\n",
            "72/72 [==============================] - 1s 18ms/sample - loss: 0.0071 - accuracy: 1.0000 - val_loss: 0.3307 - val_accuracy: 0.8462\n",
            "Epoch 41/100\n",
            "72/72 [==============================] - 1s 18ms/sample - loss: 0.0064 - accuracy: 1.0000 - val_loss: 0.3379 - val_accuracy: 0.8462\n",
            "Epoch 42/100\n",
            "72/72 [==============================] - 1s 18ms/sample - loss: 0.0053 - accuracy: 1.0000 - val_loss: 0.3482 - val_accuracy: 0.8462\n",
            "Epoch 43/100\n",
            "72/72 [==============================] - 1s 18ms/sample - loss: 0.0056 - accuracy: 1.0000 - val_loss: 0.3557 - val_accuracy: 0.8462\n",
            "Epoch 44/100\n",
            "72/72 [==============================] - 1s 18ms/sample - loss: 0.0056 - accuracy: 1.0000 - val_loss: 0.3603 - val_accuracy: 0.8462\n",
            "Epoch 45/100\n",
            "72/72 [==============================] - 1s 18ms/sample - loss: 0.0045 - accuracy: 1.0000 - val_loss: 0.3661 - val_accuracy: 0.8462\n",
            "Epoch 46/100\n",
            "72/72 [==============================] - 1s 18ms/sample - loss: 0.0051 - accuracy: 1.0000 - val_loss: 0.3726 - val_accuracy: 0.8462\n",
            "Epoch 47/100\n",
            "72/72 [==============================] - 1s 18ms/sample - loss: 0.0043 - accuracy: 1.0000 - val_loss: 0.3740 - val_accuracy: 0.8462\n",
            "Epoch 48/100\n",
            "72/72 [==============================] - 1s 18ms/sample - loss: 0.0037 - accuracy: 1.0000 - val_loss: 0.3871 - val_accuracy: 0.8462\n",
            "Epoch 49/100\n",
            "72/72 [==============================] - 1s 18ms/sample - loss: 0.0043 - accuracy: 1.0000 - val_loss: 0.3919 - val_accuracy: 0.8462\n",
            "Epoch 50/100\n",
            "72/72 [==============================] - 1s 18ms/sample - loss: 0.0035 - accuracy: 1.0000 - val_loss: 0.3966 - val_accuracy: 0.8462\n",
            "Epoch 51/100\n",
            "72/72 [==============================] - 1s 18ms/sample - loss: 0.0054 - accuracy: 1.0000 - val_loss: 0.4121 - val_accuracy: 0.8462\n",
            "Epoch 52/100\n",
            "72/72 [==============================] - 1s 19ms/sample - loss: 0.0041 - accuracy: 1.0000 - val_loss: 0.4321 - val_accuracy: 0.8462\n",
            "Epoch 53/100\n",
            "72/72 [==============================] - 1s 19ms/sample - loss: 0.0031 - accuracy: 1.0000 - val_loss: 0.4442 - val_accuracy: 0.8462\n",
            "Epoch 54/100\n",
            "72/72 [==============================] - 1s 18ms/sample - loss: 0.0035 - accuracy: 1.0000 - val_loss: 0.4472 - val_accuracy: 0.8462\n",
            "Epoch 55/100\n",
            "72/72 [==============================] - 1s 18ms/sample - loss: 0.0034 - accuracy: 1.0000 - val_loss: 0.4522 - val_accuracy: 0.8462\n",
            "Epoch 56/100\n",
            "72/72 [==============================] - 1s 18ms/sample - loss: 0.0034 - accuracy: 1.0000 - val_loss: 0.4577 - val_accuracy: 0.8462\n",
            "Epoch 57/100\n",
            "72/72 [==============================] - 1s 18ms/sample - loss: 0.0033 - accuracy: 1.0000 - val_loss: 0.4633 - val_accuracy: 0.8462\n",
            "Epoch 58/100\n",
            "72/72 [==============================] - 1s 18ms/sample - loss: 0.0028 - accuracy: 1.0000 - val_loss: 0.4686 - val_accuracy: 0.8462\n",
            "Epoch 59/100\n",
            "72/72 [==============================] - 1s 18ms/sample - loss: 0.0025 - accuracy: 1.0000 - val_loss: 0.4773 - val_accuracy: 0.8462\n",
            "Epoch 60/100\n",
            "72/72 [==============================] - 1s 18ms/sample - loss: 0.0025 - accuracy: 1.0000 - val_loss: 0.4807 - val_accuracy: 0.8462\n",
            "Epoch 61/100\n",
            "72/72 [==============================] - 1s 18ms/sample - loss: 0.0030 - accuracy: 1.0000 - val_loss: 0.4862 - val_accuracy: 0.8462\n",
            "Epoch 62/100\n",
            "72/72 [==============================] - 1s 18ms/sample - loss: 0.0018 - accuracy: 1.0000 - val_loss: 0.4894 - val_accuracy: 0.8462\n",
            "Epoch 63/100\n",
            "72/72 [==============================] - 1s 18ms/sample - loss: 0.0019 - accuracy: 1.0000 - val_loss: 0.4910 - val_accuracy: 0.8462\n",
            "Epoch 64/100\n",
            "72/72 [==============================] - 1s 19ms/sample - loss: 0.0021 - accuracy: 1.0000 - val_loss: 0.4935 - val_accuracy: 0.8462\n",
            "Epoch 65/100\n",
            "72/72 [==============================] - 1s 18ms/sample - loss: 0.0030 - accuracy: 1.0000 - val_loss: 0.4975 - val_accuracy: 0.8462\n",
            "Epoch 66/100\n",
            "72/72 [==============================] - 1s 18ms/sample - loss: 0.0020 - accuracy: 1.0000 - val_loss: 0.5018 - val_accuracy: 0.8462\n",
            "Epoch 67/100\n",
            "72/72 [==============================] - 1s 18ms/sample - loss: 0.0023 - accuracy: 1.0000 - val_loss: 0.5030 - val_accuracy: 0.8462\n",
            "Epoch 68/100\n",
            "72/72 [==============================] - 1s 18ms/sample - loss: 0.0022 - accuracy: 1.0000 - val_loss: 0.5042 - val_accuracy: 0.8462\n",
            "Epoch 69/100\n",
            "72/72 [==============================] - 1s 18ms/sample - loss: 0.0027 - accuracy: 1.0000 - val_loss: 0.5103 - val_accuracy: 0.8462\n",
            "Epoch 70/100\n",
            "72/72 [==============================] - 1s 18ms/sample - loss: 0.0016 - accuracy: 1.0000 - val_loss: 0.5130 - val_accuracy: 0.8462\n",
            "Epoch 71/100\n",
            "72/72 [==============================] - 1s 18ms/sample - loss: 0.0017 - accuracy: 1.0000 - val_loss: 0.5159 - val_accuracy: 0.8462\n",
            "Epoch 72/100\n",
            "72/72 [==============================] - 1s 18ms/sample - loss: 0.0020 - accuracy: 1.0000 - val_loss: 0.5159 - val_accuracy: 0.8462\n",
            "Epoch 73/100\n",
            "72/72 [==============================] - 1s 18ms/sample - loss: 0.0016 - accuracy: 1.0000 - val_loss: 0.5156 - val_accuracy: 0.8462\n",
            "Epoch 74/100\n",
            "72/72 [==============================] - 1s 18ms/sample - loss: 0.0019 - accuracy: 1.0000 - val_loss: 0.5178 - val_accuracy: 0.8462\n",
            "Epoch 75/100\n",
            "72/72 [==============================] - 1s 18ms/sample - loss: 0.0013 - accuracy: 1.0000 - val_loss: 0.5197 - val_accuracy: 0.8462\n",
            "Epoch 76/100\n",
            "72/72 [==============================] - 1s 18ms/sample - loss: 0.0015 - accuracy: 1.0000 - val_loss: 0.5226 - val_accuracy: 0.8462\n",
            "Epoch 77/100\n",
            "72/72 [==============================] - 1s 18ms/sample - loss: 0.0016 - accuracy: 1.0000 - val_loss: 0.5260 - val_accuracy: 0.8462\n",
            "Epoch 78/100\n",
            "72/72 [==============================] - 1s 18ms/sample - loss: 0.0012 - accuracy: 1.0000 - val_loss: 0.5295 - val_accuracy: 0.8462\n",
            "Epoch 79/100\n",
            "72/72 [==============================] - 1s 18ms/sample - loss: 0.0015 - accuracy: 1.0000 - val_loss: 0.5311 - val_accuracy: 0.8462\n",
            "Epoch 80/100\n",
            "72/72 [==============================] - 1s 18ms/sample - loss: 0.0012 - accuracy: 1.0000 - val_loss: 0.5350 - val_accuracy: 0.8462\n",
            "Epoch 81/100\n",
            "72/72 [==============================] - 1s 18ms/sample - loss: 0.0826 - accuracy: 0.9861 - val_loss: 0.3239 - val_accuracy: 0.8462\n",
            "Epoch 82/100\n",
            "72/72 [==============================] - 1s 18ms/sample - loss: 0.3621 - accuracy: 0.8472 - val_loss: 0.0863 - val_accuracy: 1.0000\n",
            "Epoch 83/100\n",
            "72/72 [==============================] - 1s 18ms/sample - loss: 0.2837 - accuracy: 0.8611 - val_loss: 0.6767 - val_accuracy: 0.6923\n",
            "Epoch 84/100\n",
            "72/72 [==============================] - 1s 18ms/sample - loss: 0.1767 - accuracy: 0.9444 - val_loss: 0.3660 - val_accuracy: 0.7692\n",
            "Epoch 85/100\n",
            "72/72 [==============================] - 1s 18ms/sample - loss: 0.1106 - accuracy: 0.9722 - val_loss: 0.3366 - val_accuracy: 0.7692\n",
            "Epoch 86/100\n",
            "72/72 [==============================] - 1s 19ms/sample - loss: 0.0717 - accuracy: 0.9861 - val_loss: 0.3831 - val_accuracy: 0.7692\n",
            "Epoch 87/100\n",
            "72/72 [==============================] - 1s 19ms/sample - loss: 0.0463 - accuracy: 1.0000 - val_loss: 0.3794 - val_accuracy: 0.7692\n",
            "Epoch 88/100\n",
            "72/72 [==============================] - 1s 19ms/sample - loss: 0.0440 - accuracy: 1.0000 - val_loss: 0.3757 - val_accuracy: 0.8462\n",
            "Epoch 89/100\n",
            "72/72 [==============================] - 1s 19ms/sample - loss: 0.0283 - accuracy: 1.0000 - val_loss: 0.4152 - val_accuracy: 0.7692\n",
            "Epoch 90/100\n",
            "72/72 [==============================] - 1s 18ms/sample - loss: 0.0259 - accuracy: 1.0000 - val_loss: 0.4010 - val_accuracy: 0.8462\n",
            "Epoch 91/100\n",
            "72/72 [==============================] - 1s 18ms/sample - loss: 0.0212 - accuracy: 1.0000 - val_loss: 0.3818 - val_accuracy: 0.8462\n",
            "Epoch 92/100\n",
            "72/72 [==============================] - 1s 18ms/sample - loss: 0.0190 - accuracy: 1.0000 - val_loss: 0.3623 - val_accuracy: 0.8462\n",
            "Epoch 93/100\n",
            "72/72 [==============================] - 1s 18ms/sample - loss: 0.0147 - accuracy: 1.0000 - val_loss: 0.3701 - val_accuracy: 0.8462\n",
            "Epoch 94/100\n",
            "72/72 [==============================] - 1s 18ms/sample - loss: 0.0152 - accuracy: 1.0000 - val_loss: 0.3843 - val_accuracy: 0.8462\n",
            "Epoch 95/100\n",
            "72/72 [==============================] - 1s 18ms/sample - loss: 0.0131 - accuracy: 1.0000 - val_loss: 0.4028 - val_accuracy: 0.8462\n",
            "Epoch 96/100\n",
            "72/72 [==============================] - 1s 18ms/sample - loss: 0.0116 - accuracy: 1.0000 - val_loss: 0.4106 - val_accuracy: 0.8462\n",
            "Epoch 97/100\n",
            "72/72 [==============================] - 1s 18ms/sample - loss: 0.0135 - accuracy: 1.0000 - val_loss: 0.4442 - val_accuracy: 0.8462\n",
            "Epoch 98/100\n",
            "72/72 [==============================] - 1s 18ms/sample - loss: 0.0107 - accuracy: 1.0000 - val_loss: 0.4659 - val_accuracy: 0.8462\n",
            "Epoch 99/100\n",
            "68/72 [===========================>..] - ETA: 0s - loss: 0.0149 - accuracy: 1.0000"
          ]
        },
        {
          "output_type": "error",
          "ename": "KeyboardInterrupt",
          "evalue": "ignored",
          "traceback": [
            "\u001b[0;31m---------------------------------------------------------------------------\u001b[0m",
            "\u001b[0;31mKeyboardInterrupt\u001b[0m                         Traceback (most recent call last)",
            "\u001b[0;32m<ipython-input-28-6387f967eaf1>\u001b[0m in \u001b[0;36m<module>\u001b[0;34m()\u001b[0m\n\u001b[1;32m     19\u001b[0m \u001b[0mmodel\u001b[0m\u001b[0;34m.\u001b[0m\u001b[0mcompile\u001b[0m\u001b[0;34m(\u001b[0m\u001b[0moptimizer\u001b[0m\u001b[0;34m=\u001b[0m\u001b[0;34m'adam'\u001b[0m\u001b[0;34m,\u001b[0m \u001b[0mloss\u001b[0m\u001b[0;34m=\u001b[0m\u001b[0;34m'binary_crossentropy'\u001b[0m\u001b[0;34m,\u001b[0m \u001b[0mmetrics\u001b[0m\u001b[0;34m=\u001b[0m\u001b[0;34m[\u001b[0m\u001b[0;34m'accuracy'\u001b[0m\u001b[0;34m]\u001b[0m\u001b[0;34m)\u001b[0m\u001b[0;34m\u001b[0m\u001b[0;34m\u001b[0m\u001b[0m\n\u001b[1;32m     20\u001b[0m \u001b[0;34m\u001b[0m\u001b[0m\n\u001b[0;32m---> 21\u001b[0;31m \u001b[0mhistory\u001b[0m \u001b[0;34m=\u001b[0m \u001b[0mmodel\u001b[0m\u001b[0;34m.\u001b[0m\u001b[0mfit\u001b[0m\u001b[0;34m(\u001b[0m\u001b[0mdata\u001b[0m\u001b[0;34m,\u001b[0m\u001b[0mlabels\u001b[0m\u001b[0;34m,\u001b[0m \u001b[0mbatch_size\u001b[0m\u001b[0;34m=\u001b[0m\u001b[0;36m4\u001b[0m\u001b[0;34m,\u001b[0m \u001b[0mepochs\u001b[0m\u001b[0;34m=\u001b[0m\u001b[0;36m100\u001b[0m\u001b[0;34m,\u001b[0m \u001b[0mvalidation_split\u001b[0m\u001b[0;34m=\u001b[0m\u001b[0;36m0.15\u001b[0m\u001b[0;34m)\u001b[0m\u001b[0;34m\u001b[0m\u001b[0;34m\u001b[0m\u001b[0m\n\u001b[0m",
            "\u001b[0;32m/usr/local/lib/python3.7/dist-packages/keras/engine/training_v1.py\u001b[0m in \u001b[0;36mfit\u001b[0;34m(self, x, y, batch_size, epochs, verbose, callbacks, validation_split, validation_data, shuffle, class_weight, sample_weight, initial_epoch, steps_per_epoch, validation_steps, validation_freq, max_queue_size, workers, use_multiprocessing, **kwargs)\u001b[0m\n\u001b[1;32m    794\u001b[0m         \u001b[0mmax_queue_size\u001b[0m\u001b[0;34m=\u001b[0m\u001b[0mmax_queue_size\u001b[0m\u001b[0;34m,\u001b[0m\u001b[0;34m\u001b[0m\u001b[0;34m\u001b[0m\u001b[0m\n\u001b[1;32m    795\u001b[0m         \u001b[0mworkers\u001b[0m\u001b[0;34m=\u001b[0m\u001b[0mworkers\u001b[0m\u001b[0;34m,\u001b[0m\u001b[0;34m\u001b[0m\u001b[0;34m\u001b[0m\u001b[0m\n\u001b[0;32m--> 796\u001b[0;31m         use_multiprocessing=use_multiprocessing)\n\u001b[0m\u001b[1;32m    797\u001b[0m \u001b[0;34m\u001b[0m\u001b[0m\n\u001b[1;32m    798\u001b[0m   def evaluate(self,\n",
            "\u001b[0;32m/usr/local/lib/python3.7/dist-packages/keras/engine/training_arrays_v1.py\u001b[0m in \u001b[0;36mfit\u001b[0;34m(self, model, x, y, batch_size, epochs, verbose, callbacks, validation_split, validation_data, shuffle, class_weight, sample_weight, initial_epoch, steps_per_epoch, validation_steps, validation_freq, **kwargs)\u001b[0m\n\u001b[1;32m    655\u001b[0m         \u001b[0mvalidation_steps\u001b[0m\u001b[0;34m=\u001b[0m\u001b[0mvalidation_steps\u001b[0m\u001b[0;34m,\u001b[0m\u001b[0;34m\u001b[0m\u001b[0;34m\u001b[0m\u001b[0m\n\u001b[1;32m    656\u001b[0m         \u001b[0mvalidation_freq\u001b[0m\u001b[0;34m=\u001b[0m\u001b[0mvalidation_freq\u001b[0m\u001b[0;34m,\u001b[0m\u001b[0;34m\u001b[0m\u001b[0;34m\u001b[0m\u001b[0m\n\u001b[0;32m--> 657\u001b[0;31m         steps_name='steps_per_epoch')\n\u001b[0m\u001b[1;32m    658\u001b[0m \u001b[0;34m\u001b[0m\u001b[0m\n\u001b[1;32m    659\u001b[0m   def evaluate(self,\n",
            "\u001b[0;32m/usr/local/lib/python3.7/dist-packages/keras/engine/training_arrays_v1.py\u001b[0m in \u001b[0;36mmodel_iteration\u001b[0;34m(model, inputs, targets, sample_weights, batch_size, epochs, verbose, callbacks, val_inputs, val_targets, val_sample_weights, shuffle, initial_epoch, steps_per_epoch, validation_steps, validation_freq, mode, validation_in_fit, prepared_feed_values_from_dataset, steps_name, **kwargs)\u001b[0m\n\u001b[1;32m    374\u001b[0m \u001b[0;34m\u001b[0m\u001b[0m\n\u001b[1;32m    375\u001b[0m         \u001b[0;31m# Get outputs.\u001b[0m\u001b[0;34m\u001b[0m\u001b[0;34m\u001b[0m\u001b[0;34m\u001b[0m\u001b[0m\n\u001b[0;32m--> 376\u001b[0;31m         \u001b[0mbatch_outs\u001b[0m \u001b[0;34m=\u001b[0m \u001b[0mf\u001b[0m\u001b[0;34m(\u001b[0m\u001b[0mins_batch\u001b[0m\u001b[0;34m)\u001b[0m\u001b[0;34m\u001b[0m\u001b[0;34m\u001b[0m\u001b[0m\n\u001b[0m\u001b[1;32m    377\u001b[0m         \u001b[0;32mif\u001b[0m \u001b[0;32mnot\u001b[0m \u001b[0misinstance\u001b[0m\u001b[0;34m(\u001b[0m\u001b[0mbatch_outs\u001b[0m\u001b[0;34m,\u001b[0m \u001b[0mlist\u001b[0m\u001b[0;34m)\u001b[0m\u001b[0;34m:\u001b[0m\u001b[0;34m\u001b[0m\u001b[0;34m\u001b[0m\u001b[0m\n\u001b[1;32m    378\u001b[0m           \u001b[0mbatch_outs\u001b[0m \u001b[0;34m=\u001b[0m \u001b[0;34m[\u001b[0m\u001b[0mbatch_outs\u001b[0m\u001b[0;34m]\u001b[0m\u001b[0;34m\u001b[0m\u001b[0;34m\u001b[0m\u001b[0m\n",
            "\u001b[0;32m/usr/local/lib/python3.7/dist-packages/keras/backend.py\u001b[0m in \u001b[0;36m__call__\u001b[0;34m(self, inputs)\u001b[0m\n\u001b[1;32m   4185\u001b[0m \u001b[0;34m\u001b[0m\u001b[0m\n\u001b[1;32m   4186\u001b[0m     fetched = self._callable_fn(*array_vals,\n\u001b[0;32m-> 4187\u001b[0;31m                                 run_metadata=self.run_metadata)\n\u001b[0m\u001b[1;32m   4188\u001b[0m     \u001b[0mself\u001b[0m\u001b[0;34m.\u001b[0m\u001b[0m_call_fetch_callbacks\u001b[0m\u001b[0;34m(\u001b[0m\u001b[0mfetched\u001b[0m\u001b[0;34m[\u001b[0m\u001b[0;34m-\u001b[0m\u001b[0mlen\u001b[0m\u001b[0;34m(\u001b[0m\u001b[0mself\u001b[0m\u001b[0;34m.\u001b[0m\u001b[0m_fetches\u001b[0m\u001b[0;34m)\u001b[0m\u001b[0;34m:\u001b[0m\u001b[0;34m]\u001b[0m\u001b[0;34m)\u001b[0m\u001b[0;34m\u001b[0m\u001b[0;34m\u001b[0m\u001b[0m\n\u001b[1;32m   4189\u001b[0m     output_structure = tf.nest.pack_sequence_as(\n",
            "\u001b[0;32m/usr/local/lib/python3.7/dist-packages/tensorflow/python/client/session.py\u001b[0m in \u001b[0;36m__call__\u001b[0;34m(self, *args, **kwargs)\u001b[0m\n\u001b[1;32m   1483\u001b[0m         ret = tf_session.TF_SessionRunCallable(self._session._session,\n\u001b[1;32m   1484\u001b[0m                                                \u001b[0mself\u001b[0m\u001b[0;34m.\u001b[0m\u001b[0m_handle\u001b[0m\u001b[0;34m,\u001b[0m \u001b[0margs\u001b[0m\u001b[0;34m,\u001b[0m\u001b[0;34m\u001b[0m\u001b[0;34m\u001b[0m\u001b[0m\n\u001b[0;32m-> 1485\u001b[0;31m                                                run_metadata_ptr)\n\u001b[0m\u001b[1;32m   1486\u001b[0m         \u001b[0;32mif\u001b[0m \u001b[0mrun_metadata\u001b[0m\u001b[0;34m:\u001b[0m\u001b[0;34m\u001b[0m\u001b[0;34m\u001b[0m\u001b[0m\n\u001b[1;32m   1487\u001b[0m           \u001b[0mproto_data\u001b[0m \u001b[0;34m=\u001b[0m \u001b[0mtf_session\u001b[0m\u001b[0;34m.\u001b[0m\u001b[0mTF_GetBuffer\u001b[0m\u001b[0;34m(\u001b[0m\u001b[0mrun_metadata_ptr\u001b[0m\u001b[0;34m)\u001b[0m\u001b[0;34m\u001b[0m\u001b[0;34m\u001b[0m\u001b[0m\n",
            "\u001b[0;31mKeyboardInterrupt\u001b[0m: "
          ]
        }
      ]
    },
    {
      "cell_type": "code",
      "metadata": {
        "id": "chXECOgDQoTv"
      },
      "source": [
        ""
      ],
      "execution_count": null,
      "outputs": []
    },
    {
      "cell_type": "code",
      "metadata": {
        "colab": {
          "base_uri": "https://localhost:8080/",
          "height": 790
        },
        "id": "EqlbjZrUGWFr",
        "outputId": "8f8bb856-74a5-4304-e838-6d4ee88af988"
      },
      "source": [
        "from tensorflow.keras.models import Sequential\n",
        "from tensorflow.keras.layers import Dense, GRU, Embedding, LSTM,Dropout\n",
        "from tensorflow.keras.optimizers import Adam\n",
        "from tensorflow.keras.preprocessing.text import Tokenizer\n",
        "from tensorflow.keras.preprocessing.sequence import pad_sequences\n",
        "from tensorflow.keras.layers import BatchNormalization\n",
        "\n",
        "model = Sequential()\n",
        "model.add(LSTM(64))\n",
        "model.add(BatchNormalization())\n",
        "model.add(Dense(1,activation = 'sigmoid'))\n",
        "model.compile(optimizer='adam', loss='binary_crossentropy', metrics=['accuracy'])\n",
        "\n",
        "history = model.fit(data,labels, batch_size=1, epochs=100, validation_split=0.2)"
      ],
      "execution_count": null,
      "outputs": [
        {
          "output_type": "error",
          "ename": "KeyboardInterrupt",
          "evalue": "ignored",
          "traceback": [
            "\u001b[0;31m---------------------------------------------------------------------------\u001b[0m",
            "\u001b[0;31mKeyboardInterrupt\u001b[0m                         Traceback (most recent call last)",
            "\u001b[0;32m/usr/local/lib/python3.7/dist-packages/zmq/backend/cython/checkrc.pxd\u001b[0m in \u001b[0;36mzmq.backend.cython.checkrc._check_rc\u001b[0;34m()\u001b[0m\n",
            "\u001b[0;31mKeyboardInterrupt\u001b[0m: "
          ]
        },
        {
          "output_type": "stream",
          "name": "stderr",
          "text": [
            "Exception ignored in: 'zmq.backend.cython.message.Frame.__dealloc__'\n",
            "Traceback (most recent call last):\n",
            "  File \"zmq/backend/cython/checkrc.pxd\", line 13, in zmq.backend.cython.checkrc._check_rc\n",
            "KeyboardInterrupt\n"
          ]
        },
        {
          "output_type": "stream",
          "name": "stdout",
          "text": [
            "Epoch 1/100\n",
            "68/68 [==============================] - 6s 65ms/step - loss: 0.6821 - accuracy: 0.6324 - val_loss: 1.0699 - val_accuracy: 0.1765\n",
            "Epoch 2/100\n",
            "68/68 [==============================] - 4s 58ms/step - loss: 0.6631 - accuracy: 0.6471 - val_loss: 1.3612 - val_accuracy: 0.1765\n",
            "Epoch 3/100\n",
            "68/68 [==============================] - 4s 58ms/step - loss: 0.6565 - accuracy: 0.6471 - val_loss: 1.7057 - val_accuracy: 0.1765\n",
            "Epoch 4/100\n",
            "68/68 [==============================] - 4s 58ms/step - loss: 0.6542 - accuracy: 0.6471 - val_loss: 2.1188 - val_accuracy: 0.1765\n",
            "Epoch 5/100\n",
            "68/68 [==============================] - 4s 58ms/step - loss: 0.6538 - accuracy: 0.6471 - val_loss: 2.6930 - val_accuracy: 0.2941\n",
            "Epoch 6/100\n",
            "29/68 [===========>..................] - ETA: 2s - loss: 0.6515 - accuracy: 0.6552"
          ]
        },
        {
          "output_type": "error",
          "ename": "KeyboardInterrupt",
          "evalue": "ignored",
          "traceback": [
            "\u001b[0;31m---------------------------------------------------------------------------\u001b[0m",
            "\u001b[0;31mKeyboardInterrupt\u001b[0m                         Traceback (most recent call last)",
            "\u001b[0;32m<ipython-input-16-f95ce01f8b75>\u001b[0m in \u001b[0;36m<module>\u001b[0;34m()\u001b[0m\n\u001b[1;32m     12\u001b[0m \u001b[0mmodel\u001b[0m\u001b[0;34m.\u001b[0m\u001b[0mcompile\u001b[0m\u001b[0;34m(\u001b[0m\u001b[0moptimizer\u001b[0m\u001b[0;34m=\u001b[0m\u001b[0;34m'adam'\u001b[0m\u001b[0;34m,\u001b[0m \u001b[0mloss\u001b[0m\u001b[0;34m=\u001b[0m\u001b[0;34m'binary_crossentropy'\u001b[0m\u001b[0;34m,\u001b[0m \u001b[0mmetrics\u001b[0m\u001b[0;34m=\u001b[0m\u001b[0;34m[\u001b[0m\u001b[0;34m'accuracy'\u001b[0m\u001b[0;34m]\u001b[0m\u001b[0;34m)\u001b[0m\u001b[0;34m\u001b[0m\u001b[0;34m\u001b[0m\u001b[0m\n\u001b[1;32m     13\u001b[0m \u001b[0;34m\u001b[0m\u001b[0m\n\u001b[0;32m---> 14\u001b[0;31m \u001b[0mhistory\u001b[0m \u001b[0;34m=\u001b[0m \u001b[0mmodel\u001b[0m\u001b[0;34m.\u001b[0m\u001b[0mfit\u001b[0m\u001b[0;34m(\u001b[0m\u001b[0mdata\u001b[0m\u001b[0;34m,\u001b[0m\u001b[0mlabels\u001b[0m\u001b[0;34m,\u001b[0m \u001b[0mbatch_size\u001b[0m\u001b[0;34m=\u001b[0m\u001b[0;36m1\u001b[0m\u001b[0;34m,\u001b[0m \u001b[0mepochs\u001b[0m\u001b[0;34m=\u001b[0m\u001b[0;36m100\u001b[0m\u001b[0;34m,\u001b[0m \u001b[0mvalidation_split\u001b[0m\u001b[0;34m=\u001b[0m\u001b[0;36m0.2\u001b[0m\u001b[0;34m)\u001b[0m\u001b[0;34m\u001b[0m\u001b[0;34m\u001b[0m\u001b[0m\n\u001b[0m",
            "\u001b[0;32m/usr/local/lib/python3.7/dist-packages/keras/utils/traceback_utils.py\u001b[0m in \u001b[0;36merror_handler\u001b[0;34m(*args, **kwargs)\u001b[0m\n\u001b[1;32m     62\u001b[0m     \u001b[0mfiltered_tb\u001b[0m \u001b[0;34m=\u001b[0m \u001b[0;32mNone\u001b[0m\u001b[0;34m\u001b[0m\u001b[0;34m\u001b[0m\u001b[0m\n\u001b[1;32m     63\u001b[0m     \u001b[0;32mtry\u001b[0m\u001b[0;34m:\u001b[0m\u001b[0;34m\u001b[0m\u001b[0;34m\u001b[0m\u001b[0m\n\u001b[0;32m---> 64\u001b[0;31m       \u001b[0;32mreturn\u001b[0m \u001b[0mfn\u001b[0m\u001b[0;34m(\u001b[0m\u001b[0;34m*\u001b[0m\u001b[0margs\u001b[0m\u001b[0;34m,\u001b[0m \u001b[0;34m**\u001b[0m\u001b[0mkwargs\u001b[0m\u001b[0;34m)\u001b[0m\u001b[0;34m\u001b[0m\u001b[0;34m\u001b[0m\u001b[0m\n\u001b[0m\u001b[1;32m     65\u001b[0m     \u001b[0;32mexcept\u001b[0m \u001b[0mException\u001b[0m \u001b[0;32mas\u001b[0m \u001b[0me\u001b[0m\u001b[0;34m:\u001b[0m  \u001b[0;31m# pylint: disable=broad-except\u001b[0m\u001b[0;34m\u001b[0m\u001b[0;34m\u001b[0m\u001b[0m\n\u001b[1;32m     66\u001b[0m       \u001b[0mfiltered_tb\u001b[0m \u001b[0;34m=\u001b[0m \u001b[0m_process_traceback_frames\u001b[0m\u001b[0;34m(\u001b[0m\u001b[0me\u001b[0m\u001b[0;34m.\u001b[0m\u001b[0m__traceback__\u001b[0m\u001b[0;34m)\u001b[0m\u001b[0;34m\u001b[0m\u001b[0;34m\u001b[0m\u001b[0m\n",
            "\u001b[0;32m/usr/local/lib/python3.7/dist-packages/keras/engine/training.py\u001b[0m in \u001b[0;36mfit\u001b[0;34m(self, x, y, batch_size, epochs, verbose, callbacks, validation_split, validation_data, shuffle, class_weight, sample_weight, initial_epoch, steps_per_epoch, validation_steps, validation_batch_size, validation_freq, max_queue_size, workers, use_multiprocessing)\u001b[0m\n\u001b[1;32m   1214\u001b[0m                 _r=1):\n\u001b[1;32m   1215\u001b[0m               \u001b[0mcallbacks\u001b[0m\u001b[0;34m.\u001b[0m\u001b[0mon_train_batch_begin\u001b[0m\u001b[0;34m(\u001b[0m\u001b[0mstep\u001b[0m\u001b[0;34m)\u001b[0m\u001b[0;34m\u001b[0m\u001b[0;34m\u001b[0m\u001b[0m\n\u001b[0;32m-> 1216\u001b[0;31m               \u001b[0mtmp_logs\u001b[0m \u001b[0;34m=\u001b[0m \u001b[0mself\u001b[0m\u001b[0;34m.\u001b[0m\u001b[0mtrain_function\u001b[0m\u001b[0;34m(\u001b[0m\u001b[0miterator\u001b[0m\u001b[0;34m)\u001b[0m\u001b[0;34m\u001b[0m\u001b[0;34m\u001b[0m\u001b[0m\n\u001b[0m\u001b[1;32m   1217\u001b[0m               \u001b[0;32mif\u001b[0m \u001b[0mdata_handler\u001b[0m\u001b[0;34m.\u001b[0m\u001b[0mshould_sync\u001b[0m\u001b[0;34m:\u001b[0m\u001b[0;34m\u001b[0m\u001b[0;34m\u001b[0m\u001b[0m\n\u001b[1;32m   1218\u001b[0m                 \u001b[0mcontext\u001b[0m\u001b[0;34m.\u001b[0m\u001b[0masync_wait\u001b[0m\u001b[0;34m(\u001b[0m\u001b[0;34m)\u001b[0m\u001b[0;34m\u001b[0m\u001b[0;34m\u001b[0m\u001b[0m\n",
            "\u001b[0;32m/usr/local/lib/python3.7/dist-packages/tensorflow/python/util/traceback_utils.py\u001b[0m in \u001b[0;36merror_handler\u001b[0;34m(*args, **kwargs)\u001b[0m\n\u001b[1;32m    148\u001b[0m     \u001b[0mfiltered_tb\u001b[0m \u001b[0;34m=\u001b[0m \u001b[0;32mNone\u001b[0m\u001b[0;34m\u001b[0m\u001b[0;34m\u001b[0m\u001b[0m\n\u001b[1;32m    149\u001b[0m     \u001b[0;32mtry\u001b[0m\u001b[0;34m:\u001b[0m\u001b[0;34m\u001b[0m\u001b[0;34m\u001b[0m\u001b[0m\n\u001b[0;32m--> 150\u001b[0;31m       \u001b[0;32mreturn\u001b[0m \u001b[0mfn\u001b[0m\u001b[0;34m(\u001b[0m\u001b[0;34m*\u001b[0m\u001b[0margs\u001b[0m\u001b[0;34m,\u001b[0m \u001b[0;34m**\u001b[0m\u001b[0mkwargs\u001b[0m\u001b[0;34m)\u001b[0m\u001b[0;34m\u001b[0m\u001b[0;34m\u001b[0m\u001b[0m\n\u001b[0m\u001b[1;32m    151\u001b[0m     \u001b[0;32mexcept\u001b[0m \u001b[0mException\u001b[0m \u001b[0;32mas\u001b[0m \u001b[0me\u001b[0m\u001b[0;34m:\u001b[0m\u001b[0;34m\u001b[0m\u001b[0;34m\u001b[0m\u001b[0m\n\u001b[1;32m    152\u001b[0m       \u001b[0mfiltered_tb\u001b[0m \u001b[0;34m=\u001b[0m \u001b[0m_process_traceback_frames\u001b[0m\u001b[0;34m(\u001b[0m\u001b[0me\u001b[0m\u001b[0;34m.\u001b[0m\u001b[0m__traceback__\u001b[0m\u001b[0;34m)\u001b[0m\u001b[0;34m\u001b[0m\u001b[0;34m\u001b[0m\u001b[0m\n",
            "\u001b[0;32m/usr/local/lib/python3.7/dist-packages/tensorflow/python/eager/def_function.py\u001b[0m in \u001b[0;36m__call__\u001b[0;34m(self, *args, **kwds)\u001b[0m\n\u001b[1;32m    908\u001b[0m \u001b[0;34m\u001b[0m\u001b[0m\n\u001b[1;32m    909\u001b[0m       \u001b[0;32mwith\u001b[0m \u001b[0mOptionalXlaContext\u001b[0m\u001b[0;34m(\u001b[0m\u001b[0mself\u001b[0m\u001b[0;34m.\u001b[0m\u001b[0m_jit_compile\u001b[0m\u001b[0;34m)\u001b[0m\u001b[0;34m:\u001b[0m\u001b[0;34m\u001b[0m\u001b[0;34m\u001b[0m\u001b[0m\n\u001b[0;32m--> 910\u001b[0;31m         \u001b[0mresult\u001b[0m \u001b[0;34m=\u001b[0m \u001b[0mself\u001b[0m\u001b[0;34m.\u001b[0m\u001b[0m_call\u001b[0m\u001b[0;34m(\u001b[0m\u001b[0;34m*\u001b[0m\u001b[0margs\u001b[0m\u001b[0;34m,\u001b[0m \u001b[0;34m**\u001b[0m\u001b[0mkwds\u001b[0m\u001b[0;34m)\u001b[0m\u001b[0;34m\u001b[0m\u001b[0;34m\u001b[0m\u001b[0m\n\u001b[0m\u001b[1;32m    911\u001b[0m \u001b[0;34m\u001b[0m\u001b[0m\n\u001b[1;32m    912\u001b[0m       \u001b[0mnew_tracing_count\u001b[0m \u001b[0;34m=\u001b[0m \u001b[0mself\u001b[0m\u001b[0;34m.\u001b[0m\u001b[0mexperimental_get_tracing_count\u001b[0m\u001b[0;34m(\u001b[0m\u001b[0;34m)\u001b[0m\u001b[0;34m\u001b[0m\u001b[0;34m\u001b[0m\u001b[0m\n",
            "\u001b[0;32m/usr/local/lib/python3.7/dist-packages/tensorflow/python/eager/def_function.py\u001b[0m in \u001b[0;36m_call\u001b[0;34m(self, *args, **kwds)\u001b[0m\n\u001b[1;32m    940\u001b[0m       \u001b[0;31m# In this case we have created variables on the first call, so we run the\u001b[0m\u001b[0;34m\u001b[0m\u001b[0;34m\u001b[0m\u001b[0;34m\u001b[0m\u001b[0m\n\u001b[1;32m    941\u001b[0m       \u001b[0;31m# defunned version which is guaranteed to never create variables.\u001b[0m\u001b[0;34m\u001b[0m\u001b[0;34m\u001b[0m\u001b[0;34m\u001b[0m\u001b[0m\n\u001b[0;32m--> 942\u001b[0;31m       \u001b[0;32mreturn\u001b[0m \u001b[0mself\u001b[0m\u001b[0;34m.\u001b[0m\u001b[0m_stateless_fn\u001b[0m\u001b[0;34m(\u001b[0m\u001b[0;34m*\u001b[0m\u001b[0margs\u001b[0m\u001b[0;34m,\u001b[0m \u001b[0;34m**\u001b[0m\u001b[0mkwds\u001b[0m\u001b[0;34m)\u001b[0m  \u001b[0;31m# pylint: disable=not-callable\u001b[0m\u001b[0;34m\u001b[0m\u001b[0;34m\u001b[0m\u001b[0m\n\u001b[0m\u001b[1;32m    943\u001b[0m     \u001b[0;32melif\u001b[0m \u001b[0mself\u001b[0m\u001b[0;34m.\u001b[0m\u001b[0m_stateful_fn\u001b[0m \u001b[0;32mis\u001b[0m \u001b[0;32mnot\u001b[0m \u001b[0;32mNone\u001b[0m\u001b[0;34m:\u001b[0m\u001b[0;34m\u001b[0m\u001b[0;34m\u001b[0m\u001b[0m\n\u001b[1;32m    944\u001b[0m       \u001b[0;31m# Release the lock early so that multiple threads can perform the call\u001b[0m\u001b[0;34m\u001b[0m\u001b[0;34m\u001b[0m\u001b[0;34m\u001b[0m\u001b[0m\n",
            "\u001b[0;32m/usr/local/lib/python3.7/dist-packages/tensorflow/python/eager/function.py\u001b[0m in \u001b[0;36m__call__\u001b[0;34m(self, *args, **kwargs)\u001b[0m\n\u001b[1;32m   3129\u001b[0m        filtered_flat_args) = self._maybe_define_function(args, kwargs)\n\u001b[1;32m   3130\u001b[0m     return graph_function._call_flat(\n\u001b[0;32m-> 3131\u001b[0;31m         filtered_flat_args, captured_inputs=graph_function.captured_inputs)  # pylint: disable=protected-access\n\u001b[0m\u001b[1;32m   3132\u001b[0m \u001b[0;34m\u001b[0m\u001b[0m\n\u001b[1;32m   3133\u001b[0m   \u001b[0;34m@\u001b[0m\u001b[0mproperty\u001b[0m\u001b[0;34m\u001b[0m\u001b[0;34m\u001b[0m\u001b[0m\n",
            "\u001b[0;32m/usr/local/lib/python3.7/dist-packages/tensorflow/python/eager/function.py\u001b[0m in \u001b[0;36m_call_flat\u001b[0;34m(self, args, captured_inputs, cancellation_manager)\u001b[0m\n\u001b[1;32m   1958\u001b[0m       \u001b[0;31m# No tape is watching; skip to running the function.\u001b[0m\u001b[0;34m\u001b[0m\u001b[0;34m\u001b[0m\u001b[0;34m\u001b[0m\u001b[0m\n\u001b[1;32m   1959\u001b[0m       return self._build_call_outputs(self._inference_function.call(\n\u001b[0;32m-> 1960\u001b[0;31m           ctx, args, cancellation_manager=cancellation_manager))\n\u001b[0m\u001b[1;32m   1961\u001b[0m     forward_backward = self._select_forward_and_backward_functions(\n\u001b[1;32m   1962\u001b[0m         \u001b[0margs\u001b[0m\u001b[0;34m,\u001b[0m\u001b[0;34m\u001b[0m\u001b[0;34m\u001b[0m\u001b[0m\n",
            "\u001b[0;32m/usr/local/lib/python3.7/dist-packages/tensorflow/python/eager/function.py\u001b[0m in \u001b[0;36mcall\u001b[0;34m(self, ctx, args, cancellation_manager)\u001b[0m\n\u001b[1;32m    601\u001b[0m               \u001b[0minputs\u001b[0m\u001b[0;34m=\u001b[0m\u001b[0margs\u001b[0m\u001b[0;34m,\u001b[0m\u001b[0;34m\u001b[0m\u001b[0;34m\u001b[0m\u001b[0m\n\u001b[1;32m    602\u001b[0m               \u001b[0mattrs\u001b[0m\u001b[0;34m=\u001b[0m\u001b[0mattrs\u001b[0m\u001b[0;34m,\u001b[0m\u001b[0;34m\u001b[0m\u001b[0;34m\u001b[0m\u001b[0m\n\u001b[0;32m--> 603\u001b[0;31m               ctx=ctx)\n\u001b[0m\u001b[1;32m    604\u001b[0m         \u001b[0;32melse\u001b[0m\u001b[0;34m:\u001b[0m\u001b[0;34m\u001b[0m\u001b[0;34m\u001b[0m\u001b[0m\n\u001b[1;32m    605\u001b[0m           outputs = execute.execute_with_cancellation(\n",
            "\u001b[0;32m/usr/local/lib/python3.7/dist-packages/tensorflow/python/eager/execute.py\u001b[0m in \u001b[0;36mquick_execute\u001b[0;34m(op_name, num_outputs, inputs, attrs, ctx, name)\u001b[0m\n\u001b[1;32m     57\u001b[0m     \u001b[0mctx\u001b[0m\u001b[0;34m.\u001b[0m\u001b[0mensure_initialized\u001b[0m\u001b[0;34m(\u001b[0m\u001b[0;34m)\u001b[0m\u001b[0;34m\u001b[0m\u001b[0;34m\u001b[0m\u001b[0m\n\u001b[1;32m     58\u001b[0m     tensors = pywrap_tfe.TFE_Py_Execute(ctx._handle, device_name, op_name,\n\u001b[0;32m---> 59\u001b[0;31m                                         inputs, attrs, num_outputs)\n\u001b[0m\u001b[1;32m     60\u001b[0m   \u001b[0;32mexcept\u001b[0m \u001b[0mcore\u001b[0m\u001b[0;34m.\u001b[0m\u001b[0m_NotOkStatusException\u001b[0m \u001b[0;32mas\u001b[0m \u001b[0me\u001b[0m\u001b[0;34m:\u001b[0m\u001b[0;34m\u001b[0m\u001b[0;34m\u001b[0m\u001b[0m\n\u001b[1;32m     61\u001b[0m     \u001b[0;32mif\u001b[0m \u001b[0mname\u001b[0m \u001b[0;32mis\u001b[0m \u001b[0;32mnot\u001b[0m \u001b[0;32mNone\u001b[0m\u001b[0;34m:\u001b[0m\u001b[0;34m\u001b[0m\u001b[0;34m\u001b[0m\u001b[0m\n",
            "\u001b[0;31mKeyboardInterrupt\u001b[0m: "
          ]
        }
      ]
    },
    {
      "cell_type": "code",
      "metadata": {
        "id": "XUiWR22Un5Pm"
      },
      "source": [
        ""
      ],
      "execution_count": null,
      "outputs": []
    },
    {
      "cell_type": "code",
      "metadata": {
        "colab": {
          "base_uri": "https://localhost:8080/",
          "height": 766
        },
        "id": "lQtxXVBx3E0O",
        "outputId": "8aa5c1e3-a1ee-46ca-8883-d6246c674e1d"
      },
      "source": [
        "import tensorflow as tf\n",
        "from tensorflow.keras.datasets import imdb\n",
        "from tensorflow.keras.layers import Embedding, Dense, LSTM\n",
        "from tensorflow.keras.losses import BinaryCrossentropy\n",
        "from tensorflow.keras.models import Sequential\n",
        "from tensorflow.keras.optimizers import Adam\n",
        "from tensorflow.keras.preprocessing.sequence import pad_sequences\n",
        "\n",
        "# Model configuration\n",
        "\n",
        "# Disable eager execution\n",
        "tf.compat.v1.disable_eager_execution()\n",
        "\n",
        "# Define the Keras model\n",
        "model = Sequential()\n",
        "model.add(LSTM(32))\n",
        "model.add(Dense(1, activation='sigmoid'))\n",
        "model.compile(optimizer='adam', loss='binary_crossentropy', metrics=['accuracy'])\n",
        "\n",
        "history = model.fit(data[:,:,1:],labels, batch_size=1, epochs=100, validation_split=0.2)"
      ],
      "execution_count": null,
      "outputs": [
        {
          "output_type": "stream",
          "name": "stdout",
          "text": [
            "Train on 65 samples, validate on 17 samples\n",
            "Epoch 1/100\n",
            "65/65 [==============================] - ETA: 0s - loss: 0.6214 - accuracy: 0.6923"
          ]
        },
        {
          "output_type": "stream",
          "name": "stderr",
          "text": [
            "/usr/local/lib/python3.7/dist-packages/keras/engine/training_v1.py:2057: UserWarning: `Model.state_updates` will be removed in a future version. This property should not be used in TensorFlow 2.0, as `updates` are applied automatically.\n",
            "  updates = self.state_updates\n"
          ]
        },
        {
          "output_type": "stream",
          "name": "stdout",
          "text": [
            "65/65 [==============================] - 5s 77ms/sample - loss: 0.6214 - accuracy: 0.6923 - val_loss: 0.6809 - val_accuracy: 0.4118\n",
            "Epoch 2/100\n",
            "65/65 [==============================] - 5s 71ms/sample - loss: 0.4393 - accuracy: 0.8154 - val_loss: 0.6280 - val_accuracy: 0.7059\n",
            "Epoch 3/100\n",
            "65/65 [==============================] - 5s 72ms/sample - loss: 0.2213 - accuracy: 0.9385 - val_loss: 0.2042 - val_accuracy: 1.0000\n",
            "Epoch 4/100\n",
            "65/65 [==============================] - 5s 73ms/sample - loss: 0.0967 - accuracy: 0.9846 - val_loss: 0.1576 - val_accuracy: 1.0000\n",
            "Epoch 5/100\n",
            "65/65 [==============================] - 5s 71ms/sample - loss: 0.0572 - accuracy: 1.0000 - val_loss: 0.1256 - val_accuracy: 1.0000\n",
            "Epoch 6/100\n",
            "65/65 [==============================] - 5s 75ms/sample - loss: 0.1229 - accuracy: 0.9846 - val_loss: 0.0935 - val_accuracy: 1.0000\n",
            "Epoch 7/100\n",
            "65/65 [==============================] - 5s 74ms/sample - loss: 0.0342 - accuracy: 1.0000 - val_loss: 0.0687 - val_accuracy: 1.0000\n",
            "Epoch 8/100\n",
            "65/65 [==============================] - 4s 68ms/sample - loss: 0.0250 - accuracy: 1.0000 - val_loss: 0.0550 - val_accuracy: 1.0000\n",
            "Epoch 9/100\n",
            "18/65 [=======>......................] - ETA: 3s - loss: 0.0123 - accuracy: 1.0000"
          ]
        },
        {
          "output_type": "error",
          "ename": "KeyboardInterrupt",
          "evalue": "ignored",
          "traceback": [
            "\u001b[0;31m---------------------------------------------------------------------------\u001b[0m",
            "\u001b[0;31mKeyboardInterrupt\u001b[0m                         Traceback (most recent call last)",
            "\u001b[0;32m<ipython-input-46-ead0437842b7>\u001b[0m in \u001b[0;36m<module>\u001b[0;34m()\u001b[0m\n\u001b[1;32m     18\u001b[0m \u001b[0mmodel\u001b[0m\u001b[0;34m.\u001b[0m\u001b[0mcompile\u001b[0m\u001b[0;34m(\u001b[0m\u001b[0moptimizer\u001b[0m\u001b[0;34m=\u001b[0m\u001b[0;34m'adam'\u001b[0m\u001b[0;34m,\u001b[0m \u001b[0mloss\u001b[0m\u001b[0;34m=\u001b[0m\u001b[0;34m'binary_crossentropy'\u001b[0m\u001b[0;34m,\u001b[0m \u001b[0mmetrics\u001b[0m\u001b[0;34m=\u001b[0m\u001b[0;34m[\u001b[0m\u001b[0;34m'accuracy'\u001b[0m\u001b[0;34m]\u001b[0m\u001b[0;34m)\u001b[0m\u001b[0;34m\u001b[0m\u001b[0;34m\u001b[0m\u001b[0m\n\u001b[1;32m     19\u001b[0m \u001b[0;34m\u001b[0m\u001b[0m\n\u001b[0;32m---> 20\u001b[0;31m \u001b[0mhistory\u001b[0m \u001b[0;34m=\u001b[0m \u001b[0mmodel\u001b[0m\u001b[0;34m.\u001b[0m\u001b[0mfit\u001b[0m\u001b[0;34m(\u001b[0m\u001b[0mdata\u001b[0m\u001b[0;34m[\u001b[0m\u001b[0;34m:\u001b[0m\u001b[0;34m,\u001b[0m\u001b[0;34m:\u001b[0m\u001b[0;34m,\u001b[0m\u001b[0;36m0\u001b[0m\u001b[0;34m:\u001b[0m\u001b[0;36m1\u001b[0m\u001b[0;34m]\u001b[0m\u001b[0;34m,\u001b[0m\u001b[0mlabels\u001b[0m\u001b[0;34m,\u001b[0m \u001b[0mbatch_size\u001b[0m\u001b[0;34m=\u001b[0m\u001b[0;36m1\u001b[0m\u001b[0;34m,\u001b[0m \u001b[0mepochs\u001b[0m\u001b[0;34m=\u001b[0m\u001b[0;36m100\u001b[0m\u001b[0;34m,\u001b[0m \u001b[0mvalidation_split\u001b[0m\u001b[0;34m=\u001b[0m\u001b[0;36m0.2\u001b[0m\u001b[0;34m)\u001b[0m\u001b[0;34m\u001b[0m\u001b[0;34m\u001b[0m\u001b[0m\n\u001b[0m",
            "\u001b[0;32m/usr/local/lib/python3.7/dist-packages/keras/engine/training_v1.py\u001b[0m in \u001b[0;36mfit\u001b[0;34m(self, x, y, batch_size, epochs, verbose, callbacks, validation_split, validation_data, shuffle, class_weight, sample_weight, initial_epoch, steps_per_epoch, validation_steps, validation_freq, max_queue_size, workers, use_multiprocessing, **kwargs)\u001b[0m\n\u001b[1;32m    794\u001b[0m         \u001b[0mmax_queue_size\u001b[0m\u001b[0;34m=\u001b[0m\u001b[0mmax_queue_size\u001b[0m\u001b[0;34m,\u001b[0m\u001b[0;34m\u001b[0m\u001b[0;34m\u001b[0m\u001b[0m\n\u001b[1;32m    795\u001b[0m         \u001b[0mworkers\u001b[0m\u001b[0;34m=\u001b[0m\u001b[0mworkers\u001b[0m\u001b[0;34m,\u001b[0m\u001b[0;34m\u001b[0m\u001b[0;34m\u001b[0m\u001b[0m\n\u001b[0;32m--> 796\u001b[0;31m         use_multiprocessing=use_multiprocessing)\n\u001b[0m\u001b[1;32m    797\u001b[0m \u001b[0;34m\u001b[0m\u001b[0m\n\u001b[1;32m    798\u001b[0m   def evaluate(self,\n",
            "\u001b[0;32m/usr/local/lib/python3.7/dist-packages/keras/engine/training_arrays_v1.py\u001b[0m in \u001b[0;36mfit\u001b[0;34m(self, model, x, y, batch_size, epochs, verbose, callbacks, validation_split, validation_data, shuffle, class_weight, sample_weight, initial_epoch, steps_per_epoch, validation_steps, validation_freq, **kwargs)\u001b[0m\n\u001b[1;32m    655\u001b[0m         \u001b[0mvalidation_steps\u001b[0m\u001b[0;34m=\u001b[0m\u001b[0mvalidation_steps\u001b[0m\u001b[0;34m,\u001b[0m\u001b[0;34m\u001b[0m\u001b[0;34m\u001b[0m\u001b[0m\n\u001b[1;32m    656\u001b[0m         \u001b[0mvalidation_freq\u001b[0m\u001b[0;34m=\u001b[0m\u001b[0mvalidation_freq\u001b[0m\u001b[0;34m,\u001b[0m\u001b[0;34m\u001b[0m\u001b[0;34m\u001b[0m\u001b[0m\n\u001b[0;32m--> 657\u001b[0;31m         steps_name='steps_per_epoch')\n\u001b[0m\u001b[1;32m    658\u001b[0m \u001b[0;34m\u001b[0m\u001b[0m\n\u001b[1;32m    659\u001b[0m   def evaluate(self,\n",
            "\u001b[0;32m/usr/local/lib/python3.7/dist-packages/keras/engine/training_arrays_v1.py\u001b[0m in \u001b[0;36mmodel_iteration\u001b[0;34m(model, inputs, targets, sample_weights, batch_size, epochs, verbose, callbacks, val_inputs, val_targets, val_sample_weights, shuffle, initial_epoch, steps_per_epoch, validation_steps, validation_freq, mode, validation_in_fit, prepared_feed_values_from_dataset, steps_name, **kwargs)\u001b[0m\n\u001b[1;32m    374\u001b[0m \u001b[0;34m\u001b[0m\u001b[0m\n\u001b[1;32m    375\u001b[0m         \u001b[0;31m# Get outputs.\u001b[0m\u001b[0;34m\u001b[0m\u001b[0;34m\u001b[0m\u001b[0;34m\u001b[0m\u001b[0m\n\u001b[0;32m--> 376\u001b[0;31m         \u001b[0mbatch_outs\u001b[0m \u001b[0;34m=\u001b[0m \u001b[0mf\u001b[0m\u001b[0;34m(\u001b[0m\u001b[0mins_batch\u001b[0m\u001b[0;34m)\u001b[0m\u001b[0;34m\u001b[0m\u001b[0;34m\u001b[0m\u001b[0m\n\u001b[0m\u001b[1;32m    377\u001b[0m         \u001b[0;32mif\u001b[0m \u001b[0;32mnot\u001b[0m \u001b[0misinstance\u001b[0m\u001b[0;34m(\u001b[0m\u001b[0mbatch_outs\u001b[0m\u001b[0;34m,\u001b[0m \u001b[0mlist\u001b[0m\u001b[0;34m)\u001b[0m\u001b[0;34m:\u001b[0m\u001b[0;34m\u001b[0m\u001b[0;34m\u001b[0m\u001b[0m\n\u001b[1;32m    378\u001b[0m           \u001b[0mbatch_outs\u001b[0m \u001b[0;34m=\u001b[0m \u001b[0;34m[\u001b[0m\u001b[0mbatch_outs\u001b[0m\u001b[0;34m]\u001b[0m\u001b[0;34m\u001b[0m\u001b[0;34m\u001b[0m\u001b[0m\n",
            "\u001b[0;32m/usr/local/lib/python3.7/dist-packages/keras/backend.py\u001b[0m in \u001b[0;36m__call__\u001b[0;34m(self, inputs)\u001b[0m\n\u001b[1;32m   4185\u001b[0m \u001b[0;34m\u001b[0m\u001b[0m\n\u001b[1;32m   4186\u001b[0m     fetched = self._callable_fn(*array_vals,\n\u001b[0;32m-> 4187\u001b[0;31m                                 run_metadata=self.run_metadata)\n\u001b[0m\u001b[1;32m   4188\u001b[0m     \u001b[0mself\u001b[0m\u001b[0;34m.\u001b[0m\u001b[0m_call_fetch_callbacks\u001b[0m\u001b[0;34m(\u001b[0m\u001b[0mfetched\u001b[0m\u001b[0;34m[\u001b[0m\u001b[0;34m-\u001b[0m\u001b[0mlen\u001b[0m\u001b[0;34m(\u001b[0m\u001b[0mself\u001b[0m\u001b[0;34m.\u001b[0m\u001b[0m_fetches\u001b[0m\u001b[0;34m)\u001b[0m\u001b[0;34m:\u001b[0m\u001b[0;34m]\u001b[0m\u001b[0;34m)\u001b[0m\u001b[0;34m\u001b[0m\u001b[0;34m\u001b[0m\u001b[0m\n\u001b[1;32m   4189\u001b[0m     output_structure = tf.nest.pack_sequence_as(\n",
            "\u001b[0;32m/usr/local/lib/python3.7/dist-packages/tensorflow/python/client/session.py\u001b[0m in \u001b[0;36m__call__\u001b[0;34m(self, *args, **kwargs)\u001b[0m\n\u001b[1;32m   1483\u001b[0m         ret = tf_session.TF_SessionRunCallable(self._session._session,\n\u001b[1;32m   1484\u001b[0m                                                \u001b[0mself\u001b[0m\u001b[0;34m.\u001b[0m\u001b[0m_handle\u001b[0m\u001b[0;34m,\u001b[0m \u001b[0margs\u001b[0m\u001b[0;34m,\u001b[0m\u001b[0;34m\u001b[0m\u001b[0;34m\u001b[0m\u001b[0m\n\u001b[0;32m-> 1485\u001b[0;31m                                                run_metadata_ptr)\n\u001b[0m\u001b[1;32m   1486\u001b[0m         \u001b[0;32mif\u001b[0m \u001b[0mrun_metadata\u001b[0m\u001b[0;34m:\u001b[0m\u001b[0;34m\u001b[0m\u001b[0;34m\u001b[0m\u001b[0m\n\u001b[1;32m   1487\u001b[0m           \u001b[0mproto_data\u001b[0m \u001b[0;34m=\u001b[0m \u001b[0mtf_session\u001b[0m\u001b[0;34m.\u001b[0m\u001b[0mTF_GetBuffer\u001b[0m\u001b[0;34m(\u001b[0m\u001b[0mrun_metadata_ptr\u001b[0m\u001b[0;34m)\u001b[0m\u001b[0;34m\u001b[0m\u001b[0;34m\u001b[0m\u001b[0m\n",
            "\u001b[0;31mKeyboardInterrupt\u001b[0m: "
          ]
        }
      ]
    },
    {
      "cell_type": "code",
      "metadata": {
        "id": "QCFgpJMtxMmp"
      },
      "source": [
        "X = data[:,:,:64]"
      ],
      "execution_count": null,
      "outputs": []
    },
    {
      "cell_type": "code",
      "metadata": {
        "colab": {
          "base_uri": "https://localhost:8080/",
          "height": 1000
        },
        "id": "XewPzOlRxdrH",
        "outputId": "55c94fe1-3c99-444e-855c-72d57b2203d3"
      },
      "source": [
        "import tensorflow as tf\n",
        "from tensorflow.keras.datasets import imdb\n",
        "from tensorflow.keras.layers import Embedding, Dense, LSTM\n",
        "from tensorflow.keras.losses import BinaryCrossentropy\n",
        "from tensorflow.keras.models import Sequential\n",
        "from tensorflow.keras.optimizers import Adam\n",
        "from tensorflow.keras.preprocessing.sequence import pad_sequences\n",
        "\n",
        "# Model configuration\n",
        "\n",
        "# Disable eager execution\n",
        "tf.compat.v1.disable_eager_execution()\n",
        "\n",
        "# Define the Keras model\n",
        "model = Sequential()\n",
        "model.add(LSTM(32))\n",
        "model.add(Dense(1, activation='sigmoid'))\n",
        "model.compile(optimizer='adam', loss='binary_crossentropy', metrics=['accuracy'])\n",
        "\n",
        "history = model.fit(X,labels, batch_size=1, epochs=100, validation_split=0.2)\n"
      ],
      "execution_count": null,
      "outputs": [
        {
          "output_type": "stream",
          "name": "stdout",
          "text": [
            "Train on 65 samples, validate on 17 samples\n",
            "Epoch 1/100\n",
            "65/65 [==============================] - ETA: 0s - loss: 0.5624 - accuracy: 0.7385"
          ]
        },
        {
          "output_type": "stream",
          "name": "stderr",
          "text": [
            "/usr/local/lib/python3.7/dist-packages/keras/engine/training_v1.py:2057: UserWarning: `Model.state_updates` will be removed in a future version. This property should not be used in TensorFlow 2.0, as `updates` are applied automatically.\n",
            "  updates = self.state_updates\n"
          ]
        },
        {
          "output_type": "stream",
          "name": "stdout",
          "text": [
            "65/65 [==============================] - 5s 70ms/sample - loss: 0.5624 - accuracy: 0.7385 - val_loss: 0.6519 - val_accuracy: 0.5294\n",
            "Epoch 2/100\n",
            "65/65 [==============================] - 5s 73ms/sample - loss: 0.2651 - accuracy: 0.9231 - val_loss: 0.3491 - val_accuracy: 0.9412\n",
            "Epoch 3/100\n",
            "65/65 [==============================] - 5s 72ms/sample - loss: 0.1150 - accuracy: 0.9846 - val_loss: 0.2481 - val_accuracy: 0.9412\n",
            "Epoch 4/100\n",
            "65/65 [==============================] - 5s 70ms/sample - loss: 0.0555 - accuracy: 1.0000 - val_loss: 0.1229 - val_accuracy: 1.0000\n",
            "Epoch 5/100\n",
            "65/65 [==============================] - 5s 71ms/sample - loss: 0.0327 - accuracy: 1.0000 - val_loss: 0.0735 - val_accuracy: 1.0000\n",
            "Epoch 6/100\n",
            "65/65 [==============================] - 5s 73ms/sample - loss: 0.0232 - accuracy: 1.0000 - val_loss: 0.0577 - val_accuracy: 1.0000\n",
            "Epoch 7/100\n",
            "65/65 [==============================] - 5s 72ms/sample - loss: 0.0178 - accuracy: 1.0000 - val_loss: 0.0450 - val_accuracy: 1.0000\n",
            "Epoch 8/100\n",
            "65/65 [==============================] - 5s 72ms/sample - loss: 0.0142 - accuracy: 1.0000 - val_loss: 0.0370 - val_accuracy: 1.0000\n",
            "Epoch 9/100\n",
            "65/65 [==============================] - 5s 74ms/sample - loss: 0.0117 - accuracy: 1.0000 - val_loss: 0.0307 - val_accuracy: 1.0000\n",
            "Epoch 10/100\n",
            "65/65 [==============================] - 4s 68ms/sample - loss: 0.0097 - accuracy: 1.0000 - val_loss: 0.0270 - val_accuracy: 1.0000\n",
            "Epoch 11/100\n",
            "65/65 [==============================] - 4s 68ms/sample - loss: 0.0602 - accuracy: 0.9846 - val_loss: 0.0342 - val_accuracy: 1.0000\n",
            "Epoch 12/100\n",
            "65/65 [==============================] - 5s 74ms/sample - loss: 0.0972 - accuracy: 0.9846 - val_loss: 0.0342 - val_accuracy: 1.0000\n",
            "Epoch 13/100\n",
            "65/65 [==============================] - 5s 74ms/sample - loss: 0.0134 - accuracy: 1.0000 - val_loss: 0.0278 - val_accuracy: 1.0000\n",
            "Epoch 14/100\n",
            "65/65 [==============================] - 4s 68ms/sample - loss: 0.0100 - accuracy: 1.0000 - val_loss: 0.0225 - val_accuracy: 1.0000\n",
            "Epoch 15/100\n",
            "65/65 [==============================] - 5s 70ms/sample - loss: 0.0081 - accuracy: 1.0000 - val_loss: 0.0193 - val_accuracy: 1.0000\n",
            "Epoch 16/100\n",
            "65/65 [==============================] - 5s 73ms/sample - loss: 0.0068 - accuracy: 1.0000 - val_loss: 0.0167 - val_accuracy: 1.0000\n",
            "Epoch 17/100\n",
            "65/65 [==============================] - 5s 70ms/sample - loss: 0.0059 - accuracy: 1.0000 - val_loss: 0.0148 - val_accuracy: 1.0000\n",
            "Epoch 18/100\n",
            "65/65 [==============================] - 4s 69ms/sample - loss: 0.0051 - accuracy: 1.0000 - val_loss: 0.0132 - val_accuracy: 1.0000\n",
            "Epoch 19/100\n",
            "65/65 [==============================] - 5s 71ms/sample - loss: 0.0045 - accuracy: 1.0000 - val_loss: 0.0118 - val_accuracy: 1.0000\n",
            "Epoch 20/100\n",
            "65/65 [==============================] - 5s 71ms/sample - loss: 0.0041 - accuracy: 1.0000 - val_loss: 0.0107 - val_accuracy: 1.0000\n",
            "Epoch 21/100\n",
            "65/65 [==============================] - 5s 71ms/sample - loss: 0.0037 - accuracy: 1.0000 - val_loss: 0.0096 - val_accuracy: 1.0000\n",
            "Epoch 22/100\n",
            "65/65 [==============================] - 5s 72ms/sample - loss: 0.0033 - accuracy: 1.0000 - val_loss: 0.0087 - val_accuracy: 1.0000\n",
            "Epoch 23/100\n",
            "65/65 [==============================] - 5s 71ms/sample - loss: 0.0030 - accuracy: 1.0000 - val_loss: 0.0081 - val_accuracy: 1.0000\n",
            "Epoch 24/100\n",
            "65/65 [==============================] - 5s 73ms/sample - loss: 0.0027 - accuracy: 1.0000 - val_loss: 0.0074 - val_accuracy: 1.0000\n",
            "Epoch 25/100\n",
            "65/65 [==============================] - 5s 72ms/sample - loss: 0.0025 - accuracy: 1.0000 - val_loss: 0.0070 - val_accuracy: 1.0000\n",
            "Epoch 26/100\n",
            "65/65 [==============================] - 5s 71ms/sample - loss: 0.0023 - accuracy: 1.0000 - val_loss: 0.0064 - val_accuracy: 1.0000\n",
            "Epoch 27/100\n",
            "65/65 [==============================] - 5s 73ms/sample - loss: 0.0584 - accuracy: 0.9846 - val_loss: 0.4355 - val_accuracy: 0.9412\n",
            "Epoch 28/100\n",
            "65/65 [==============================] - 5s 73ms/sample - loss: 0.0604 - accuracy: 0.9846 - val_loss: 0.3917 - val_accuracy: 0.9412\n",
            "Epoch 29/100\n",
            "65/65 [==============================] - 5s 73ms/sample - loss: 0.0128 - accuracy: 1.0000 - val_loss: 0.3702 - val_accuracy: 0.9412\n",
            "Epoch 30/100\n",
            "65/65 [==============================] - 5s 71ms/sample - loss: 0.0058 - accuracy: 1.0000 - val_loss: 0.3892 - val_accuracy: 0.9412\n",
            "Epoch 31/100\n",
            "65/65 [==============================] - 5s 74ms/sample - loss: 0.0042 - accuracy: 1.0000 - val_loss: 0.3984 - val_accuracy: 0.9412\n",
            "Epoch 32/100\n",
            "65/65 [==============================] - 5s 70ms/sample - loss: 0.0036 - accuracy: 1.0000 - val_loss: 0.4054 - val_accuracy: 0.9412\n",
            "Epoch 33/100\n",
            "65/65 [==============================] - 5s 71ms/sample - loss: 0.0031 - accuracy: 1.0000 - val_loss: 0.4106 - val_accuracy: 0.9412\n",
            "Epoch 34/100\n",
            "65/65 [==============================] - 4s 69ms/sample - loss: 0.0028 - accuracy: 1.0000 - val_loss: 0.4142 - val_accuracy: 0.9412\n",
            "Epoch 35/100\n",
            "65/65 [==============================] - 5s 72ms/sample - loss: 0.0025 - accuracy: 1.0000 - val_loss: 0.4196 - val_accuracy: 0.9412\n",
            "Epoch 36/100\n",
            "65/65 [==============================] - 5s 70ms/sample - loss: 0.0023 - accuracy: 1.0000 - val_loss: 0.4237 - val_accuracy: 0.9412\n",
            "Epoch 37/100\n",
            "65/65 [==============================] - 5s 72ms/sample - loss: 0.0021 - accuracy: 1.0000 - val_loss: 0.4265 - val_accuracy: 0.9412\n",
            "Epoch 38/100\n",
            "65/65 [==============================] - 5s 76ms/sample - loss: 0.0019 - accuracy: 1.0000 - val_loss: 0.4291 - val_accuracy: 0.9412\n",
            "Epoch 39/100\n",
            "65/65 [==============================] - 5s 69ms/sample - loss: 0.0018 - accuracy: 1.0000 - val_loss: 0.4316 - val_accuracy: 0.9412\n",
            "Epoch 40/100\n",
            "65/65 [==============================] - 5s 70ms/sample - loss: 0.0016 - accuracy: 1.0000 - val_loss: 0.4346 - val_accuracy: 0.9412\n",
            "Epoch 41/100\n",
            "65/65 [==============================] - 5s 70ms/sample - loss: 0.0015 - accuracy: 1.0000 - val_loss: 0.4373 - val_accuracy: 0.9412\n",
            "Epoch 42/100\n",
            "65/65 [==============================] - 4s 69ms/sample - loss: 0.0014 - accuracy: 1.0000 - val_loss: 0.4407 - val_accuracy: 0.9412\n",
            "Epoch 43/100\n",
            "65/65 [==============================] - 5s 69ms/sample - loss: 0.0013 - accuracy: 1.0000 - val_loss: 0.4430 - val_accuracy: 0.9412\n",
            "Epoch 44/100\n",
            "65/65 [==============================] - 5s 72ms/sample - loss: 0.0013 - accuracy: 1.0000 - val_loss: 0.4449 - val_accuracy: 0.9412\n",
            "Epoch 45/100\n",
            "65/65 [==============================] - 5s 74ms/sample - loss: 0.0012 - accuracy: 1.0000 - val_loss: 0.4484 - val_accuracy: 0.9412\n",
            "Epoch 46/100\n",
            "65/65 [==============================] - 5s 73ms/sample - loss: 0.0011 - accuracy: 1.0000 - val_loss: 0.4502 - val_accuracy: 0.9412\n",
            "Epoch 47/100\n",
            "65/65 [==============================] - 5s 75ms/sample - loss: 0.0010 - accuracy: 1.0000 - val_loss: 0.4531 - val_accuracy: 0.9412\n",
            "Epoch 48/100\n",
            "65/65 [==============================] - 5s 72ms/sample - loss: 9.9217e-04 - accuracy: 1.0000 - val_loss: 0.4559 - val_accuracy: 0.9412\n",
            "Epoch 49/100\n",
            "65/65 [==============================] - 5s 72ms/sample - loss: 9.4036e-04 - accuracy: 1.0000 - val_loss: 0.4579 - val_accuracy: 0.9412\n",
            "Epoch 50/100\n",
            "65/65 [==============================] - 5s 72ms/sample - loss: 8.8995e-04 - accuracy: 1.0000 - val_loss: 0.4603 - val_accuracy: 0.9412\n",
            "Epoch 51/100\n",
            "65/65 [==============================] - 5s 74ms/sample - loss: 8.4383e-04 - accuracy: 1.0000 - val_loss: 0.4628 - val_accuracy: 0.9412\n",
            "Epoch 52/100\n",
            "65/65 [==============================] - 5s 73ms/sample - loss: 8.0169e-04 - accuracy: 1.0000 - val_loss: 0.4650 - val_accuracy: 0.9412\n",
            "Epoch 53/100\n",
            "65/65 [==============================] - 5s 71ms/sample - loss: 7.6093e-04 - accuracy: 1.0000 - val_loss: 0.4676 - val_accuracy: 0.9412\n",
            "Epoch 54/100\n",
            "65/65 [==============================] - 5s 76ms/sample - loss: 7.2358e-04 - accuracy: 1.0000 - val_loss: 0.4693 - val_accuracy: 0.9412\n",
            "Epoch 55/100\n",
            "65/65 [==============================] - 5s 72ms/sample - loss: 6.8830e-04 - accuracy: 1.0000 - val_loss: 0.4721 - val_accuracy: 0.9412\n",
            "Epoch 56/100\n",
            "65/65 [==============================] - 5s 71ms/sample - loss: 6.5472e-04 - accuracy: 1.0000 - val_loss: 0.4740 - val_accuracy: 0.9412\n",
            "Epoch 57/100\n",
            "65/65 [==============================] - 5s 72ms/sample - loss: 6.2411e-04 - accuracy: 1.0000 - val_loss: 0.4762 - val_accuracy: 0.9412\n",
            "Epoch 58/100\n",
            "65/65 [==============================] - 5s 74ms/sample - loss: 5.9554e-04 - accuracy: 1.0000 - val_loss: 0.4776 - val_accuracy: 0.9412\n",
            "Epoch 59/100\n",
            "65/65 [==============================] - 5s 74ms/sample - loss: 5.6534e-04 - accuracy: 1.0000 - val_loss: 0.4797 - val_accuracy: 0.9412\n",
            "Epoch 60/100\n",
            "65/65 [==============================] - 5s 70ms/sample - loss: 5.3846e-04 - accuracy: 1.0000 - val_loss: 0.4819 - val_accuracy: 0.9412\n",
            "Epoch 61/100\n",
            "65/65 [==============================] - 5s 72ms/sample - loss: 5.1478e-04 - accuracy: 1.0000 - val_loss: 0.4828 - val_accuracy: 0.9412\n",
            "Epoch 62/100\n",
            "65/65 [==============================] - 5s 71ms/sample - loss: 4.9081e-04 - accuracy: 1.0000 - val_loss: 0.4848 - val_accuracy: 0.9412\n",
            "Epoch 63/100\n"
          ]
        },
        {
          "output_type": "error",
          "ename": "KeyboardInterrupt",
          "evalue": "ignored",
          "traceback": [
            "\u001b[0;31m---------------------------------------------------------------------------\u001b[0m",
            "\u001b[0;31mKeyboardInterrupt\u001b[0m                         Traceback (most recent call last)",
            "\u001b[0;32m<ipython-input-15-8dcefd6e9a7b>\u001b[0m in \u001b[0;36m<module>\u001b[0;34m()\u001b[0m\n\u001b[1;32m     18\u001b[0m \u001b[0mmodel\u001b[0m\u001b[0;34m.\u001b[0m\u001b[0mcompile\u001b[0m\u001b[0;34m(\u001b[0m\u001b[0moptimizer\u001b[0m\u001b[0;34m=\u001b[0m\u001b[0;34m'adam'\u001b[0m\u001b[0;34m,\u001b[0m \u001b[0mloss\u001b[0m\u001b[0;34m=\u001b[0m\u001b[0;34m'binary_crossentropy'\u001b[0m\u001b[0;34m,\u001b[0m \u001b[0mmetrics\u001b[0m\u001b[0;34m=\u001b[0m\u001b[0;34m[\u001b[0m\u001b[0;34m'accuracy'\u001b[0m\u001b[0;34m]\u001b[0m\u001b[0;34m)\u001b[0m\u001b[0;34m\u001b[0m\u001b[0;34m\u001b[0m\u001b[0m\n\u001b[1;32m     19\u001b[0m \u001b[0;34m\u001b[0m\u001b[0m\n\u001b[0;32m---> 20\u001b[0;31m \u001b[0mhistory\u001b[0m \u001b[0;34m=\u001b[0m \u001b[0mmodel\u001b[0m\u001b[0;34m.\u001b[0m\u001b[0mfit\u001b[0m\u001b[0;34m(\u001b[0m\u001b[0mX\u001b[0m\u001b[0;34m,\u001b[0m\u001b[0mlabels\u001b[0m\u001b[0;34m,\u001b[0m \u001b[0mbatch_size\u001b[0m\u001b[0;34m=\u001b[0m\u001b[0;36m1\u001b[0m\u001b[0;34m,\u001b[0m \u001b[0mepochs\u001b[0m\u001b[0;34m=\u001b[0m\u001b[0;36m100\u001b[0m\u001b[0;34m,\u001b[0m \u001b[0mvalidation_split\u001b[0m\u001b[0;34m=\u001b[0m\u001b[0;36m0.2\u001b[0m\u001b[0;34m)\u001b[0m\u001b[0;34m\u001b[0m\u001b[0;34m\u001b[0m\u001b[0m\n\u001b[0m",
            "\u001b[0;32m/usr/local/lib/python3.7/dist-packages/keras/engine/training_v1.py\u001b[0m in \u001b[0;36mfit\u001b[0;34m(self, x, y, batch_size, epochs, verbose, callbacks, validation_split, validation_data, shuffle, class_weight, sample_weight, initial_epoch, steps_per_epoch, validation_steps, validation_freq, max_queue_size, workers, use_multiprocessing, **kwargs)\u001b[0m\n\u001b[1;32m    794\u001b[0m         \u001b[0mmax_queue_size\u001b[0m\u001b[0;34m=\u001b[0m\u001b[0mmax_queue_size\u001b[0m\u001b[0;34m,\u001b[0m\u001b[0;34m\u001b[0m\u001b[0;34m\u001b[0m\u001b[0m\n\u001b[1;32m    795\u001b[0m         \u001b[0mworkers\u001b[0m\u001b[0;34m=\u001b[0m\u001b[0mworkers\u001b[0m\u001b[0;34m,\u001b[0m\u001b[0;34m\u001b[0m\u001b[0;34m\u001b[0m\u001b[0m\n\u001b[0;32m--> 796\u001b[0;31m         use_multiprocessing=use_multiprocessing)\n\u001b[0m\u001b[1;32m    797\u001b[0m \u001b[0;34m\u001b[0m\u001b[0m\n\u001b[1;32m    798\u001b[0m   def evaluate(self,\n",
            "\u001b[0;32m/usr/local/lib/python3.7/dist-packages/keras/engine/training_arrays_v1.py\u001b[0m in \u001b[0;36mfit\u001b[0;34m(self, model, x, y, batch_size, epochs, verbose, callbacks, validation_split, validation_data, shuffle, class_weight, sample_weight, initial_epoch, steps_per_epoch, validation_steps, validation_freq, **kwargs)\u001b[0m\n\u001b[1;32m    655\u001b[0m         \u001b[0mvalidation_steps\u001b[0m\u001b[0;34m=\u001b[0m\u001b[0mvalidation_steps\u001b[0m\u001b[0;34m,\u001b[0m\u001b[0;34m\u001b[0m\u001b[0;34m\u001b[0m\u001b[0m\n\u001b[1;32m    656\u001b[0m         \u001b[0mvalidation_freq\u001b[0m\u001b[0;34m=\u001b[0m\u001b[0mvalidation_freq\u001b[0m\u001b[0;34m,\u001b[0m\u001b[0;34m\u001b[0m\u001b[0;34m\u001b[0m\u001b[0m\n\u001b[0;32m--> 657\u001b[0;31m         steps_name='steps_per_epoch')\n\u001b[0m\u001b[1;32m    658\u001b[0m \u001b[0;34m\u001b[0m\u001b[0m\n\u001b[1;32m    659\u001b[0m   def evaluate(self,\n",
            "\u001b[0;32m/usr/local/lib/python3.7/dist-packages/keras/engine/training_arrays_v1.py\u001b[0m in \u001b[0;36mmodel_iteration\u001b[0;34m(model, inputs, targets, sample_weights, batch_size, epochs, verbose, callbacks, val_inputs, val_targets, val_sample_weights, shuffle, initial_epoch, steps_per_epoch, validation_steps, validation_freq, mode, validation_in_fit, prepared_feed_values_from_dataset, steps_name, **kwargs)\u001b[0m\n\u001b[1;32m    374\u001b[0m \u001b[0;34m\u001b[0m\u001b[0m\n\u001b[1;32m    375\u001b[0m         \u001b[0;31m# Get outputs.\u001b[0m\u001b[0;34m\u001b[0m\u001b[0;34m\u001b[0m\u001b[0;34m\u001b[0m\u001b[0m\n\u001b[0;32m--> 376\u001b[0;31m         \u001b[0mbatch_outs\u001b[0m \u001b[0;34m=\u001b[0m \u001b[0mf\u001b[0m\u001b[0;34m(\u001b[0m\u001b[0mins_batch\u001b[0m\u001b[0;34m)\u001b[0m\u001b[0;34m\u001b[0m\u001b[0;34m\u001b[0m\u001b[0m\n\u001b[0m\u001b[1;32m    377\u001b[0m         \u001b[0;32mif\u001b[0m \u001b[0;32mnot\u001b[0m \u001b[0misinstance\u001b[0m\u001b[0;34m(\u001b[0m\u001b[0mbatch_outs\u001b[0m\u001b[0;34m,\u001b[0m \u001b[0mlist\u001b[0m\u001b[0;34m)\u001b[0m\u001b[0;34m:\u001b[0m\u001b[0;34m\u001b[0m\u001b[0;34m\u001b[0m\u001b[0m\n\u001b[1;32m    378\u001b[0m           \u001b[0mbatch_outs\u001b[0m \u001b[0;34m=\u001b[0m \u001b[0;34m[\u001b[0m\u001b[0mbatch_outs\u001b[0m\u001b[0;34m]\u001b[0m\u001b[0;34m\u001b[0m\u001b[0;34m\u001b[0m\u001b[0m\n",
            "\u001b[0;32m/usr/local/lib/python3.7/dist-packages/keras/backend.py\u001b[0m in \u001b[0;36m__call__\u001b[0;34m(self, inputs)\u001b[0m\n\u001b[1;32m   4185\u001b[0m \u001b[0;34m\u001b[0m\u001b[0m\n\u001b[1;32m   4186\u001b[0m     fetched = self._callable_fn(*array_vals,\n\u001b[0;32m-> 4187\u001b[0;31m                                 run_metadata=self.run_metadata)\n\u001b[0m\u001b[1;32m   4188\u001b[0m     \u001b[0mself\u001b[0m\u001b[0;34m.\u001b[0m\u001b[0m_call_fetch_callbacks\u001b[0m\u001b[0;34m(\u001b[0m\u001b[0mfetched\u001b[0m\u001b[0;34m[\u001b[0m\u001b[0;34m-\u001b[0m\u001b[0mlen\u001b[0m\u001b[0;34m(\u001b[0m\u001b[0mself\u001b[0m\u001b[0;34m.\u001b[0m\u001b[0m_fetches\u001b[0m\u001b[0;34m)\u001b[0m\u001b[0;34m:\u001b[0m\u001b[0;34m]\u001b[0m\u001b[0;34m)\u001b[0m\u001b[0;34m\u001b[0m\u001b[0;34m\u001b[0m\u001b[0m\n\u001b[1;32m   4189\u001b[0m     output_structure = tf.nest.pack_sequence_as(\n",
            "\u001b[0;32m/usr/local/lib/python3.7/dist-packages/tensorflow/python/client/session.py\u001b[0m in \u001b[0;36m__call__\u001b[0;34m(self, *args, **kwargs)\u001b[0m\n\u001b[1;32m   1483\u001b[0m         ret = tf_session.TF_SessionRunCallable(self._session._session,\n\u001b[1;32m   1484\u001b[0m                                                \u001b[0mself\u001b[0m\u001b[0;34m.\u001b[0m\u001b[0m_handle\u001b[0m\u001b[0;34m,\u001b[0m \u001b[0margs\u001b[0m\u001b[0;34m,\u001b[0m\u001b[0;34m\u001b[0m\u001b[0;34m\u001b[0m\u001b[0m\n\u001b[0;32m-> 1485\u001b[0;31m                                                run_metadata_ptr)\n\u001b[0m\u001b[1;32m   1486\u001b[0m         \u001b[0;32mif\u001b[0m \u001b[0mrun_metadata\u001b[0m\u001b[0;34m:\u001b[0m\u001b[0;34m\u001b[0m\u001b[0;34m\u001b[0m\u001b[0m\n\u001b[1;32m   1487\u001b[0m           \u001b[0mproto_data\u001b[0m \u001b[0;34m=\u001b[0m \u001b[0mtf_session\u001b[0m\u001b[0;34m.\u001b[0m\u001b[0mTF_GetBuffer\u001b[0m\u001b[0;34m(\u001b[0m\u001b[0mrun_metadata_ptr\u001b[0m\u001b[0;34m)\u001b[0m\u001b[0;34m\u001b[0m\u001b[0;34m\u001b[0m\u001b[0m\n",
            "\u001b[0;31mKeyboardInterrupt\u001b[0m: "
          ]
        }
      ]
    },
    {
      "cell_type": "code",
      "metadata": {
        "colab": {
          "base_uri": "https://localhost:8080/"
        },
        "id": "QgkmiadNyLpi",
        "outputId": "8fbc406b-4766-408e-eb34-902ff52f1e0a"
      },
      "source": [
        "from sklearn.svm import SVC\n",
        "clf = SVC()\n",
        "clf = clf.fit(X_train[:,:,7], y_train)"
      ],
      "execution_count": null,
      "outputs": [
        {
          "output_type": "stream",
          "name": "stderr",
          "text": [
            "/usr/local/lib/python3.7/dist-packages/sklearn/utils/validation.py:760: DataConversionWarning: A column-vector y was passed when a 1d array was expected. Please change the shape of y to (n_samples, ), for example using ravel().\n",
            "  y = column_or_1d(y, warn=True)\n"
          ]
        }
      ]
    },
    {
      "cell_type": "code",
      "metadata": {
        "id": "soD0IK750TLl"
      },
      "source": [
        "X_train, X_test, y_train, y_test = train_test_split(\n",
        "    data, labels, test_size=0.20, random_state=42)"
      ],
      "execution_count": null,
      "outputs": []
    },
    {
      "cell_type": "code",
      "metadata": {
        "id": "6hea20wY0m84"
      },
      "source": [
        "y_pred = clf.predict(X_test[:,:,7])"
      ],
      "execution_count": null,
      "outputs": []
    },
    {
      "cell_type": "code",
      "metadata": {
        "colab": {
          "base_uri": "https://localhost:8080/"
        },
        "id": "PtSSClAQ0wHC",
        "outputId": "1234bef5-e81b-4f3e-b109-68a15e60efd3"
      },
      "source": [
        "np.mean(y_pred==y_test)"
      ],
      "execution_count": null,
      "outputs": [
        {
          "output_type": "execute_result",
          "data": {
            "text/plain": [
              "0.5121107266435986"
            ]
          },
          "metadata": {},
          "execution_count": 61
        }
      ]
    },
    {
      "cell_type": "code",
      "metadata": {
        "id": "_e3ELBn705wa"
      },
      "source": [
        ""
      ],
      "execution_count": null,
      "outputs": []
    },
    {
      "cell_type": "code",
      "metadata": {
        "colab": {
          "base_uri": "https://localhost:8080/",
          "height": 379
        },
        "id": "TpnFPUQu1Df1",
        "outputId": "1393987a-2fe8-4e64-a011-2c5994c24d9a"
      },
      "source": [
        "pca = PCA(n_components=5)\n",
        "pcs = pca.fit_transform(data)\n",
        "print(data.shape)"
      ],
      "execution_count": null,
      "outputs": [
        {
          "output_type": "error",
          "ename": "ValueError",
          "evalue": "ignored",
          "traceback": [
            "\u001b[0;31m---------------------------------------------------------------------------\u001b[0m",
            "\u001b[0;31mValueError\u001b[0m                                Traceback (most recent call last)",
            "\u001b[0;32m<ipython-input-26-6acf1f88da4b>\u001b[0m in \u001b[0;36m<module>\u001b[0;34m()\u001b[0m\n\u001b[1;32m      1\u001b[0m \u001b[0mpca\u001b[0m \u001b[0;34m=\u001b[0m \u001b[0mPCA\u001b[0m\u001b[0;34m(\u001b[0m\u001b[0mn_components\u001b[0m\u001b[0;34m=\u001b[0m\u001b[0;36m5\u001b[0m\u001b[0;34m)\u001b[0m\u001b[0;34m\u001b[0m\u001b[0;34m\u001b[0m\u001b[0m\n\u001b[0;32m----> 2\u001b[0;31m \u001b[0mpcs\u001b[0m \u001b[0;34m=\u001b[0m \u001b[0mpca\u001b[0m\u001b[0;34m.\u001b[0m\u001b[0mfit_transform\u001b[0m\u001b[0;34m(\u001b[0m\u001b[0mdata\u001b[0m\u001b[0;34m)\u001b[0m\u001b[0;34m\u001b[0m\u001b[0;34m\u001b[0m\u001b[0m\n\u001b[0m\u001b[1;32m      3\u001b[0m \u001b[0mprint\u001b[0m\u001b[0;34m(\u001b[0m\u001b[0mdata\u001b[0m\u001b[0;34m.\u001b[0m\u001b[0mshape\u001b[0m\u001b[0;34m)\u001b[0m\u001b[0;34m\u001b[0m\u001b[0;34m\u001b[0m\u001b[0m\n",
            "\u001b[0;32m/usr/local/lib/python3.7/dist-packages/sklearn/decomposition/_pca.py\u001b[0m in \u001b[0;36mfit_transform\u001b[0;34m(self, X, y)\u001b[0m\n\u001b[1;32m    367\u001b[0m         \u001b[0mC\u001b[0m\u001b[0;34m-\u001b[0m\u001b[0mordered\u001b[0m \u001b[0marray\u001b[0m\u001b[0;34m,\u001b[0m \u001b[0muse\u001b[0m \u001b[0;34m'np.ascontiguousarray'\u001b[0m\u001b[0;34m.\u001b[0m\u001b[0;34m\u001b[0m\u001b[0;34m\u001b[0m\u001b[0m\n\u001b[1;32m    368\u001b[0m         \"\"\"\n\u001b[0;32m--> 369\u001b[0;31m         \u001b[0mU\u001b[0m\u001b[0;34m,\u001b[0m \u001b[0mS\u001b[0m\u001b[0;34m,\u001b[0m \u001b[0mV\u001b[0m \u001b[0;34m=\u001b[0m \u001b[0mself\u001b[0m\u001b[0;34m.\u001b[0m\u001b[0m_fit\u001b[0m\u001b[0;34m(\u001b[0m\u001b[0mX\u001b[0m\u001b[0;34m)\u001b[0m\u001b[0;34m\u001b[0m\u001b[0;34m\u001b[0m\u001b[0m\n\u001b[0m\u001b[1;32m    370\u001b[0m         \u001b[0mU\u001b[0m \u001b[0;34m=\u001b[0m \u001b[0mU\u001b[0m\u001b[0;34m[\u001b[0m\u001b[0;34m:\u001b[0m\u001b[0;34m,\u001b[0m \u001b[0;34m:\u001b[0m\u001b[0mself\u001b[0m\u001b[0;34m.\u001b[0m\u001b[0mn_components_\u001b[0m\u001b[0;34m]\u001b[0m\u001b[0;34m\u001b[0m\u001b[0;34m\u001b[0m\u001b[0m\n\u001b[1;32m    371\u001b[0m \u001b[0;34m\u001b[0m\u001b[0m\n",
            "\u001b[0;32m/usr/local/lib/python3.7/dist-packages/sklearn/decomposition/_pca.py\u001b[0m in \u001b[0;36m_fit\u001b[0;34m(self, X)\u001b[0m\n\u001b[1;32m    389\u001b[0m \u001b[0;34m\u001b[0m\u001b[0m\n\u001b[1;32m    390\u001b[0m         X = check_array(X, dtype=[np.float64, np.float32], ensure_2d=True,\n\u001b[0;32m--> 391\u001b[0;31m                         copy=self.copy)\n\u001b[0m\u001b[1;32m    392\u001b[0m \u001b[0;34m\u001b[0m\u001b[0m\n\u001b[1;32m    393\u001b[0m         \u001b[0;31m# Handle n_components==None\u001b[0m\u001b[0;34m\u001b[0m\u001b[0;34m\u001b[0m\u001b[0;34m\u001b[0m\u001b[0m\n",
            "\u001b[0;32m/usr/local/lib/python3.7/dist-packages/sklearn/utils/validation.py\u001b[0m in \u001b[0;36mcheck_array\u001b[0;34m(array, accept_sparse, accept_large_sparse, dtype, order, copy, force_all_finite, ensure_2d, allow_nd, ensure_min_samples, ensure_min_features, warn_on_dtype, estimator)\u001b[0m\n\u001b[1;32m    572\u001b[0m         \u001b[0;32mif\u001b[0m \u001b[0;32mnot\u001b[0m \u001b[0mallow_nd\u001b[0m \u001b[0;32mand\u001b[0m \u001b[0marray\u001b[0m\u001b[0;34m.\u001b[0m\u001b[0mndim\u001b[0m \u001b[0;34m>=\u001b[0m \u001b[0;36m3\u001b[0m\u001b[0;34m:\u001b[0m\u001b[0;34m\u001b[0m\u001b[0;34m\u001b[0m\u001b[0m\n\u001b[1;32m    573\u001b[0m             raise ValueError(\"Found array with dim %d. %s expected <= 2.\"\n\u001b[0;32m--> 574\u001b[0;31m                              % (array.ndim, estimator_name))\n\u001b[0m\u001b[1;32m    575\u001b[0m \u001b[0;34m\u001b[0m\u001b[0m\n\u001b[1;32m    576\u001b[0m         \u001b[0;32mif\u001b[0m \u001b[0mforce_all_finite\u001b[0m\u001b[0;34m:\u001b[0m\u001b[0;34m\u001b[0m\u001b[0;34m\u001b[0m\u001b[0m\n",
            "\u001b[0;31mValueError\u001b[0m: Found array with dim 3. Estimator expected <= 2."
          ]
        }
      ]
    },
    {
      "cell_type": "code",
      "metadata": {
        "colab": {
          "base_uri": "https://localhost:8080/"
        },
        "id": "mSKTYgns1E7n",
        "outputId": "9d6f64f4-fc4f-4811-db3d-fe611c2ae784"
      },
      "source": [
        "X_train.shape"
      ],
      "execution_count": null,
      "outputs": [
        {
          "output_type": "execute_result",
          "data": {
            "text/plain": [
              "(65, 250, 192)"
            ]
          },
          "metadata": {},
          "execution_count": 58
        }
      ]
    },
    {
      "cell_type": "code",
      "metadata": {
        "colab": {
          "base_uri": "https://localhost:8080/"
        },
        "id": "cYBSvXDK6ZIK",
        "outputId": "1de184b3-cef2-4a5c-e926-2f40dadf708b"
      },
      "source": [
        "def solve(l):\n",
        "    c2, c3, c5, c7=0,0,0,0;\n",
        "    while(l > 0):\n",
        "    \n",
        "        temp = l % 10\n",
        "        if(temp == 2):\n",
        "            c2 +=1\n",
        "        \n",
        "        elif (temp == 3):\n",
        "            c3 +=1\n",
        "        \n",
        "        elif (temp == 5):\n",
        "            c5 +=1\n",
        "        \n",
        "        elif (temp == 7):\n",
        "            c7 +=1\n",
        "        \n",
        "        l = l/10;\n",
        "    \n",
        "    if (c2 >= c3 and c3 >= c5 and c5 >= c7):\n",
        "    \n",
        "        return True\n",
        "    \n",
        "    else:\n",
        "    \n",
        "        return False\n",
        "    \n",
        "\n",
        "def calpr(l,r):\n",
        "    pr = 0\n",
        "    for i in range(l,r+1):\n",
        "    \n",
        "        res = solve(i)\n",
        "        if(res == True):\n",
        "        \n",
        "            pr +=1;\n",
        "        \n",
        "    \n",
        "    print(pr);\n",
        "\n",
        "\n",
        "\n",
        "n = int(input())\n",
        "for i in range(n):\n",
        "  temp = input().split()\n",
        "  l = int(temp[0])\n",
        "  r = int(temp[1])\n",
        "  calpr(l, r)\n",
        "\n",
        "\n",
        " \n"
      ],
      "execution_count": null,
      "outputs": [
        {
          "output_type": "stream",
          "name": "stdout",
          "text": [
            "1\n",
            "4 5\n",
            "1\n"
          ]
        }
      ]
    },
    {
      "cell_type": "code",
      "metadata": {
        "id": "2ei_QrEplEym",
        "colab": {
          "base_uri": "https://localhost:8080/"
        },
        "outputId": "18fe79c5-a63b-415d-99ed-65de04148981"
      },
      "source": [
        "import re\n",
        "re.findall(r'lol', 'abcdefghijklolol')"
      ],
      "execution_count": null,
      "outputs": [
        {
          "output_type": "execute_result",
          "data": {
            "text/plain": [
              "['lol']"
            ]
          },
          "metadata": {},
          "execution_count": 54
        }
      ]
    },
    {
      "cell_type": "code",
      "metadata": {
        "colab": {
          "base_uri": "https://localhost:8080/"
        },
        "id": "u2vyYWyD6wvO",
        "outputId": "34825699-2bcb-47f6-f0d1-5506e42da6bf"
      },
      "source": [
        "def trans(n):\n",
        "  return lambda x:x+n\n",
        "\n",
        "f = trans(9)\n",
        "f(4)"
      ],
      "execution_count": null,
      "outputs": [
        {
          "output_type": "execute_result",
          "data": {
            "text/plain": [
              "13"
            ]
          },
          "metadata": {},
          "execution_count": 57
        }
      ]
    },
    {
      "cell_type": "code",
      "metadata": {
        "colab": {
          "base_uri": "https://localhost:8080/"
        },
        "id": "znRB-7pu6-M3",
        "outputId": "d6beb5fb-1484-4f8b-8893-3a5541ea3e2f"
      },
      "source": [
        "no = [9,5,4,13,14,26,11]\n",
        "print(list(filter(lambda i:i%2, no)))"
      ],
      "execution_count": null,
      "outputs": [
        {
          "output_type": "stream",
          "name": "stdout",
          "text": [
            "[9, 5, 13, 11]\n"
          ]
        }
      ]
    },
    {
      "cell_type": "code",
      "metadata": {
        "colab": {
          "base_uri": "https://localhost:8080/"
        },
        "id": "HMJZBbjH7iM_",
        "outputId": "743cc2ac-d012-4055-8fe1-e9ebfc7b10b4"
      },
      "source": [
        "import threading\n",
        "lock = threading.RLock()\n",
        "print(lock.acquire(), lock.acquire(0))"
      ],
      "execution_count": null,
      "outputs": [
        {
          "output_type": "stream",
          "name": "stdout",
          "text": [
            "True True\n"
          ]
        }
      ]
    },
    {
      "cell_type": "code",
      "metadata": {
        "colab": {
          "base_uri": "https://localhost:8080/"
        },
        "id": "6hKRXfEo70uy",
        "outputId": "d43644f6-e265-417e-de13-8bfd04f69c61"
      },
      "source": [
        "lock.acquire(0)"
      ],
      "execution_count": null,
      "outputs": [
        {
          "output_type": "execute_result",
          "data": {
            "text/plain": [
              "True"
            ]
          },
          "metadata": {},
          "execution_count": 62
        }
      ]
    },
    {
      "cell_type": "code",
      "metadata": {
        "colab": {
          "base_uri": "https://localhost:8080/"
        },
        "id": "2dg7-ChM8AON",
        "outputId": "9397b9c5-5735-42a5-d7d6-f93849974e4c"
      },
      "source": [
        "from urllib.request import urlopen\n",
        "import re\n",
        "reader = re.compile('<DT><a href = \"[^\"]+>(.+?)</a>')\n",
        "url = 'https://www.google.com'\n",
        "sock = urlopen(url).read().decode(\"utf-8\")\n",
        "li = reader.findall(sock)\n",
        "li"
      ],
      "execution_count": null,
      "outputs": [
        {
          "output_type": "execute_result",
          "data": {
            "text/plain": [
              "[]"
            ]
          },
          "metadata": {},
          "execution_count": 70
        }
      ]
    },
    {
      "cell_type": "code",
      "metadata": {
        "colab": {
          "base_uri": "https://localhost:8080/"
        },
        "id": "1m9NjWSI9I9z",
        "outputId": "264a5b14-cc71-41c7-faf8-cedf9306fd55"
      },
      "source": [
        "!pip install urllib"
      ],
      "execution_count": null,
      "outputs": [
        {
          "output_type": "stream",
          "name": "stdout",
          "text": [
            "\u001b[31mERROR: Could not find a version that satisfies the requirement urllib (from versions: none)\u001b[0m\n",
            "\u001b[31mERROR: No matching distribution found for urllib\u001b[0m\n"
          ]
        }
      ]
    },
    {
      "cell_type": "code",
      "metadata": {
        "id": "VJ6sfEAH9Lrc"
      },
      "source": [
        ""
      ],
      "execution_count": null,
      "outputs": []
    }
  ]
}